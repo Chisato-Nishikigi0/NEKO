{
 "cells": [
  {
   "cell_type": "markdown",
   "id": "a5b487f8-9d91-40ae-a53b-16cb2fb5e97b",
   "metadata": {},
   "source": [
    "This notebook is module 2 of NEKO.\n",
    "\n",
    "It does the following steps:\n",
    "1. Search your keyword of interest in the knowledge graph and output a filtered knowledge graph.\n",
    "2. Use LLM to summarize and generate a report.\n",
    "\n",
    "To use this notebook, you need to:\n",
    "\n",
    "- Input the path to Qwen model (from huggingface or from local storage).\n",
    "- Input your search keyword.\n",
    "- Modify the prompt according to your needs."
   ]
  },
  {
   "cell_type": "code",
   "execution_count": 1,
   "id": "ba75b0fc-5c29-4c8b-b50a-8d26702e7dfd",
   "metadata": {},
   "outputs": [
    {
     "data": {
      "application/vnd.jupyter.widget-view+json": {
       "model_id": "d3400556bfe24b7f8db2cb1e39a67c7d",
       "version_major": 2,
       "version_minor": 0
      },
      "text/plain": [
       "Loading checkpoint shards:   0%|          | 0/38 [00:00<?, ?it/s]"
      ]
     },
     "metadata": {},
     "output_type": "display_data"
    },
    {
     "name": "stderr",
     "output_type": "stream",
     "text": [
      "Special tokens have been added in the vocabulary, make sure the associated word embeddings are fine-tuned or trained.\n"
     ]
    }
   ],
   "source": [
    "import os\n",
    "os.environ[\"CUDA_VISIBLE_DEVICES\"] = \"0,1,2,3\"\n",
    "\n",
    "from transformers import AutoModelForCausalLM, AutoTokenizer\n",
    "device = \"cuda\" # the device to load the model onto\n",
    "\n",
    "model = AutoModelForCausalLM.from_pretrained(\"/storage1/fs1/yinjie.tang/Active/Shawn_Xiao/Qwen1.5-72B-Chat\",\n",
    "    device_map=\"auto\", torch_dtype=\"auto\"\n",
    ")\n",
    "tokenizer = AutoTokenizer.from_pretrained(\"/storage1/fs1/yinjie.tang/Active/Shawn_Xiao/Qwen1.5-72B-Chat\")\n",
    "\n",
    "#Qwen1.5-72B-Chat-GPTQ-Int4\n",
    "#Qwen1.5-14B-Chat"
   ]
  },
  {
   "cell_type": "code",
   "execution_count": 2,
   "id": "4f3583d1-435c-42cc-b90a-8cf064dc3ea6",
   "metadata": {
    "scrolled": true,
    "tags": []
   },
   "outputs": [
    {
     "name": "stdout",
     "output_type": "stream",
     "text": [
      "B-carotene in E. coli, SQS1, 'expression levels', canthaxanthin, b-carotene, Saccharomyces cerevisiae, improved β-carotene production, W29-derived strain, '17a, absence in CIBTS1630 extracts, 'MVA pathway', (DCW, β-Carotene biosynthesis, 'HMG-CoA reductase', Yarrowia lipolytica, beta-carotene production, metabolic engineering, S. et al., 2017', Yarrowia lipolytica, β-carotene production, 'carotene synthase', ERG9 promoter, β-carotene ketolase, Squalene synthase, (β-carotene biosynthetic genes, integration, correct locus, average frequency (53%, 'beta-carotene biosynthetic pathway', (carRP gene, synthetic medium, astaxanthin biosynthesis, (beta-carotene production, 'Complementation with LEU2', GGPS1/crtE, flux to downstream bottleneck, Ku70-deficient Y. lipolytica, 'ERG13', 'lipid content', glucose concentration, SeACSL641P, b-carotene concentration, (enhanced β-carotene synthesis, 'lipid accumulation', morphological and metabolic engineering, Liu, M. et al., HMG, β-carotene hydroxylase, ERG12, Increase in b-carotene content, Xylose, X. dendrorhous, high lipogenesis, β-carotene, increased β-carotene production, 'genetic engineering tools', β-carotene accumulation, HMG1, 'promoter strength', β-carotene production)) (Nonhomologous end-joining, Blakeslea trispora, '11 β-carotene synthetic genes', 'heterologous multifunctional carotene synthase', 'ERG10 overexpression, 'β-carotene titers', 'leucine auxotrophy, SsCarS, 'multiple-copy pathway genes', carotenoid platform strains, 'b-Carotene', CLA4 deletion, (CarRP, ((glucose concentration, biomass maintenance, β-carotene production improvement, b-carotene production, DNA assembler, 'β-carotene synthesis-relevant strain', 39, 'high-cell-density fermentation', CIBTS1622, 'erg20', Astaxanthin pathway, 17 genes, ER, Microbia/DSM, ((NADPH, cofactor, b-carotene titer, 438.4 mg/L, 453.9 mg/L, 'b-carotene', synthetic biology approach, squalene, increased β-carotene yield, 'β-carotene synthesis pathway', YPD, 'b-carotene ketolase (crtW)', Wang, 'erg8', 'β-carotene hydroxylase', metabolic stress, heterologous β-carotene production, MHY1 deletion, R., Gu, X., Yao, M., Pan, C., Liu, H., Xiao, W., Wang, Y., Yuan, Y., Saccharomyces cerevisiae, β-carotene hydroxylase, ketolase, astaxanthin overproduction, 'β-carotene producing pathway, ((tHMG/tHMGR, β-carotene production, b-Carotene, (β-carotene biosynthesis, lipids, 'glycerol', highest β-carotene titer and ratio', carRP, 'rice endosperm', 'YNBgly60', squalene, 2,3-oxidosqualene analysis, 'mevalonate', 'beta-carotene production', efficient b-carotene production, 'lycopene cyclase', Yarrowia lipolytica, synthetic biology, uracil auxotrophy, Escherichia coli, GGS1/crtE, 'length of DNA integration'), ketolase engineering, astaxanthin, Front. Chem. Sci. Eng., erg9 downregulation, 6.5 g/L, 'idi', mevalonate synth- esis, β-carotene production, heterologous multifunctional carotene synthase, Yarrowia lipolytica, β-carotene synthesis, crtZ, Knocking out GGS1 gene, Recombinant production, b-carotene accumulation, 'HMG1, β-carotene, expression of tHmgR and GGS1, codon adaptation, Liu, L. et al., 'linalool', 'α-santalene', 'squalene', 'ginsenoside compound K', 'β-carotene', 'lycopene', 'astaxanthin', VHb, (high β-carotene production, P., Li, M., Shen, B., Yao, Z., Bian, Q., Ye, L., Yu, H., β-carotene ketolase, hydroxylase, astaxanthin biosynthesis, temperature regulation, acetone, 'Escherichia coli', CrtW, 'biosynthetic pathway', '6.5 g/L β-carotene', (β-carotene accumulation, ST9251, '2:1 ratio of carbon to nitrogen', 'PGPD promoter', 'lycopene', 'squalene', 'mevalonate', 'cell extracts', yeast cells, 'β-carotene biosynthesis pathway', Yarrowia lipolytica, β-carotene overproduction, High-Level B-carotene Production, 'SaGGPPSp expression, AaBFS, CIBTS1626, XdCrtI, 4-fold increase, bifunctional phytoene synthase/lycopene cyclase (carRP), 'CrtRP', phytoene dehydrogenase (carB), crtYB, 'erg19', β-carotene biosynthetic pathway construction, decentralized assembly strategy, ((ATP, energy source, 'β-carotene precursor lycopene', MVA pathway)), cytotoxicity, Zhou, 'enzymes from Mucor circinelloides', 'mevalonate (MVA) pathway genes', 'prototrophic strains', Recombinant E. coli, pathway enzymes, 'limonene', 408 mg/L b-carotene, b-carotene production)), 'peptone', 'glucose', 'β-carotene production', 'Saccharomyces cerevisiae', CLA4/MHY1 double deletion, metabolic engineering, 'in vivo homologous recombination', 'ERG13 gene', 'parental Yarrowia lipolytica strain XK2', 'b-carotene biosynthetic pathway', 'engineered yeast', beta-carotene enhancement, further improvement, 'NHEJ-mediated insertion of LEU2 into NDH80-locus', activation of hyphal growth, b-carotene production in Y. lipolytica, CrtZ, b-carotene hydrolase, Mucor circinelloides, β-carotene biosynthetic genes, B-carotene Production, precursor pool, 'diterpenes and carotenoids', carB, 'chromosomal', flask, 'GGS1', carRP copy number, 'E. coli', ERG12, ACL1, SeACS, IDI, GGS1, XdCrtYB, CrtI', 'β-carotene overexpression', 'Uracil', 'β-carotene biosynthesis', HXKp overexpression, 'Deleting ΔCLA4', 'GGS1-CarB-CarRP expression cassette', B-carotene production, beta-carotene and lycopene, 'yeast extract', 'carotenoids', 'β-carotene', 'multiple-copy pathway genes, stress response, 'copy number', (multiple copies of CarRP), fermentation broth, 'tHMGR', improvement, crtI, 'carRP', β-carotene synthesis push, 'Yarrowia lipolytica', 'competitive biotechnology', (low glucose concentration, Xanthophyllomyces dendrorhous, 'cyanobacterial β-carotene ketolase', b-carotene biosynthesis pathway, HpCrtZ, β-carotene sequestration, overexpression of DID2 gene, Yarrowia lipolytica, Y. lipolytica chromosome, β-carotene transformation, β-carotene biosynthesis, B-carotene Biotechnology, β-carotene biosynthesis pathway, 'beta-carotene production, lycopene, Industrial glycerol, (lipid-overproducing strain, GGPPsa, b-carotene synthesis, Geranylgeranyl diphosphate, 'precursor substances', 'β-carotene', β-Carotene, b-carotene ketolase, promoter shuffling, Promoter optimization, PsCrtW, LB, 'recombinant β-carotene production', 60%)), DSM, 'β-carotene production', 'highest production of b-carotene', successive transformation with carotenogenic genes, beta-carotene production, HMG gene, 'Y. lipolytica', Transformation of Yarrowia lipolytica, McCarRP, 't-HMG expression cassette', 797.1 mg/L, tHmgR copy number, whole mevalonate pathway, microbial hosts, ACL1, 'Gao et al.', photometric measurement, squalene overproduction, McCarB, SaGGPPS, carotene, β-carotene precursor, CarB and CarRP genes expression, ERG10 overexpression, beta-oxidation pathways knockout, change in cell wall structure, β-carotene extraction, 'GM Y. lipolytica', Yarrowia lipolytica, Larroude, M. et al., Y10P20D, MVA pathway genes from S. cerevisiae, 'synthetic biology', 'fed-batch fermentation', MEP and MVA pathways, 'CIBTS2111', increased β-carotene yield and expression of specific genes, 'Phytoene synthase/lycopene cyclase', (YPD, 'carTEF-cassette', accumulation, beta-carotene transformation, Lipolytica, β-carotene production, altered cell settling property, 'metabolic engineering', lipid body, beta-oxidation pathways knockout', 'beta-carotene production', glucose utilization, β-carotene yield, 'Gao, (β-carotene, 'Yarrowia lipolytica strain XK19', 'β-carotene synthesis', ycopene, engineered β-carotene-overproduction strain, 'β-Carotene', highest β-carotene titer, 'ERG12', β-carotene pathway, DGA1, DGA2, ERG8 (β-carotene, GGPPS, hydroxylase, transform Yarrowia lipolytica for beta-carotene production, 'MVA pathway activity', (YPD60, (high glucose feeding rate, b-carotene content, fermentation condition optimization, 'Overexpression of ERG13', 2.2 ± 0.3 mg/g dry cell weight, E. coli, 'Yarrowia lipolytica', DGA2, 'whole mevalonate pathway', central metabolic modules, β-carotene, astaxanthin production, b-carotene hydroxylase, 'Deleting ΔMHY1', GGPPS, genome engineering, auxotrophy, 'β-carotene yield', '17b, hyphal growth, SQS, ST9253, zeaxanthin, MVA pathway activity, XdCrtYB, 'β-carotene synthase, 8 genes, ('Y. lipolytica', 'β-carotene production', β-carotene production increase, XK19 strain, β-carotene analysis, iterative integration, final b-carotene concentration, XdcrtI, 'CarB', multiple gene modifications, (leucine auxotrophy, 'Overexpression of DID2p', achieved through combined methods, accumulation of β-carotene, 'carbon-limiting conditions', 'CarB and CarRP genes expression', 'tHmgR', XdcrtYB, 'nitrogen-limited medium', β-carotene titers 49%', phytoene, IDI, β-carotene yield, 'ERG9 promoter truncation', 'carB', ERG13, β-carotene synthesis)), 'SsGGPPS7p expression, Y. lipolytica Po1f, 'Larroude et al. 2018a', Dunaliella salina, 'XdcrtE copy, YPD medium, 'b-carotene hydrolase (crtZ)', b-carotene production, 4.5 g/L, β-carotene and ketocarotenoid intermediates accumulation, β-carotene titer, β-carotene titers 272%, lipid bodies, 'β-carotene synthesis pulling', (Carotene production, Synthetic Biology Approach, β-carotene biosynthesis)), 'Leucine', MEP and MVA Pathways, 'HMG', iterative integration, multiple-copy pathway genes, β-carotene production, increased by morphology engineering, fermentation media, β-carotene production enhancement, crtW, integration, Y. lipolytica ATCC 201249, 4.5 g/L, 'CIBTS1630, Heterologous Carotenoid Synthase, b-carotene titers, 'erg12', erg10, Acetyl-CoA, 'central metabolic modules', Decentralized assembly strategy, synthetic biology, peroxisome, Yarrowia lipolytica, multiple-copy pathway genes, beta-carotene production, GGS1 and carRP integration, 'b-Carotene biosynthesis pathways', 8. Yarrowia lipolytica, 'Blakeslea trispora', AfGGPS, astaxanthin, total carotenoids, 'erg13', 'β-carotene-producing strain', 'β-carotene content', 10. Saccharomyces cerevisiae, 111.8 mg/L, ERG20F 88C, YPD10, Y. lipolytica, 49, (lipid overproducer strain, β-carotene content, echinenone, Yarrowia lipolytica production\n"
     ]
    }
   ],
   "source": [
    "from pyvis.network import Network\n",
    "import pandas as pd\n",
    "import re\n",
    "import networkx as nx\n",
    "\n",
    "# Load the Excel file\n",
    "filepath = 'modified_updated(Qwen1.5 14b)_Yarrowia_pdf_causal.xlsx'\n",
    "df = pd.read_excel(filepath, engine='openpyxl')\n",
    "\n",
    "# Initialize NetworkX Graph\n",
    "G = nx.Graph()\n",
    "\n",
    "# Nodes to exclude\n",
    "# words_to_exclude = ['Synechocystis', 'Cyanobacteria', 'cyanobacteria']\n",
    "words_to_exclude = []\n",
    "\n",
    "# Regular expression to match the pattern (entity A, entity B)\n",
    "pattern = r'\\(([^,]+), ([^\\)]+)\\)'\n",
    "\n",
    "# Iterate over the DataFrame rows to extract entity pairs and their sources\n",
    "for _, row in df.iterrows():\n",
    "    # value = row['Response to New Question']\n",
    "    value = row['Answer to Question 2']\n",
    "    source = row['Title']  # Extract source for each pair\n",
    "\n",
    "    matches = re.findall(pattern, value)\n",
    "    for entity_a, entity_b in matches:\n",
    "        # Check if any word to exclude is part of the entity names\n",
    "        if not any(word in entity_a for word in words_to_exclude) and not any(word in entity_b for word in words_to_exclude):\n",
    "            G.add_node(entity_a, label=entity_a)\n",
    "            G.add_node(entity_b, label=entity_b)\n",
    "            G.add_edge(entity_a, entity_b, title=source)\n",
    "\n",
    "def search_network(graph, keyword, depth=1):\n",
    "    nodes_of_interest = {n for n, attr in graph.nodes(data=True) if keyword.lower() in attr['label'].lower()}\n",
    "    for _ in range(depth):\n",
    "        for node in list(nodes_of_interest):\n",
    "            nodes_of_interest.update(set(nx.neighbors(graph, node)))\n",
    "    return graph.subgraph(nodes_of_interest)\n",
    "\n",
    "# Perform search\n",
    "keyword = \"carotene\"  # Replace with your keyword\n",
    "filtered_graph = search_network(G, keyword)\n",
    "\n",
    "# Extract node names from the filtered graph\n",
    "node_names = list(filtered_graph.nodes())\n",
    "\n",
    "# Prepare a simple text summary of node names\n",
    "node_names_text = \", \".join(node_names)\n",
    "\n",
    "# Now, `node_names_text` contains a clean, comma-separated list of node names, ready for summarization\n",
    "print(node_names_text)\n",
    "\n",
    "# Initialize Pyvis network with the filtered graph\n",
    "net = Network(height=\"2160px\", width=\"100%\", bgcolor=\"#222222\", font_color=\"white\")\n",
    "net.from_nx(filtered_graph)\n",
    "\n",
    "# Continue with setting options and saving the network as before\n",
    "net.set_options(\"\"\"\n",
    "{\n",
    "  \"physics\": {\n",
    "    \"barnesHut\": {\n",
    "      \"gravitationalConstant\": -80000,\n",
    "      \"centralGravity\": 0.5,\n",
    "      \"springLength\": 75,\n",
    "      \"springConstant\": 0.05,\n",
    "      \"damping\": 0.09,\n",
    "      \"avoidOverlap\": 0.5\n",
    "    },\n",
    "    \"maxVelocity\": 100,\n",
    "    \"minVelocity\": 0.1,\n",
    "    \"solver\": \"barnesHut\",\n",
    "    \"timestep\": 0.3,\n",
    "    \"stabilization\": {\n",
    "        \"enabled\": true,\n",
    "        \"iterations\": 500,\n",
    "        \"updateInterval\": 10,\n",
    "        \"onlyDynamicEdges\": false,\n",
    "        \"fit\": true\n",
    "    }\n",
    "  },\n",
    "  \"nodes\": {\n",
    "    \"font\": {\n",
    "      \"size\": 30,\n",
    "      \"color\": \"white\"\n",
    "    }\n",
    "  }\n",
    "}\n",
    "\"\"\")\n",
    "\n",
    "\n",
    "\n",
    "\n",
    "\n",
    "# Save and show the network\n",
    "net.write_html('filterd_entity_'+keyword+'_network.html')"
   ]
  },
  {
   "cell_type": "code",
   "execution_count": 3,
   "id": "26cd6037-212c-4536-a5ae-99332db5c558",
   "metadata": {},
   "outputs": [
    {
     "data": {
      "text/markdown": [
       "Summary Report:\n",
       "\n",
       "The terms provided relate to the research and optimization of β-carotene production in various microorganisms, primarily focusing on E. coli, Saccharomyces cerevisiae, and Yarrowia lipolytica. β-carotene is an essential nutrient and a precursor to vitamin A. The following key aspects are highlighted in the context of these organisms:\n",
       "\n",
       "1. **Metabolic Engineering**: Techniques such as genetic engineering, metabolic stress, and metabolic engineering are employed to enhance β-carotene synthesis in microorganisms. This involves overexpression or modification of genes like HMG-CoA reductase (ERG13), MVA pathway genes, carotene synthase, and β-carotene ketolase.\n",
       "\n",
       "2. **Strain Optimization**: Genetic modifications, including deletion of specific genes (e.g., CLA4, MHY1, and GGS1), integration of β-carotene biosynthetic genes at the correct locus, and the use of auxotrophic strains, are used to improve β-carotene production.\n",
       "\n",
       "3. **Promoters and Gene Expression**: The strength of promoters (e.g., ERG9, PGPD) influences β-carotene biosynthesis. The expression levels of genes like HMG1, tHMG1, and GGS1 are manipulated to boost β-carotene synthesis.\n",
       "\n",
       "4. **Pathway Engineering**: The MVA pathway, which is crucial for β-carotene biosynthesis, is often targeted for optimization. This includes overexpression of ERG10, manipulation of the β-carotene biosynthetic genes (carRP, crtYB, crtI, crtZ), and introduction of heterologous multifunctional carotene synthases.\n",
       "\n",
       "5. **Fermentation Conditions**: Factors such as glucose concentration, carbon-to-nitrogen ratio, temperature regulation, and the use of different media (e.g., YPD, synthetic medium) affect β-carotene production. Optimization of fermentation parameters (high-cell-density fermentation, fed-batch fermentation) and stress response management also contribute to enhanced yields.\n",
       "\n",
       "6. **Yeast Strains**: Yarrowia lipolytica, in particular, is a focus for β-carotene overproduction. Genetic tools, including DNA assembler, nonhomologous end-joining, and in vivo homologous recombination, are used to engineer Y. lipolytica strains for higher β-carotene titers.\n",
       "\n",
       "7. **Recombinant Production**: Recombinant E. coli and yeast strains are developed for β-carotene synthesis, often involving the expression of genes from other organisms, such as Mucor circinelloides or cyanobacteria.\n",
       "\n",
       "8. **Lipid Accumulation and β-carotene Sequestration**: Enhanced lipid accumulation and changes in cell wall structure can lead to increased β-carotene storage, as seen in lipid-overproducing strains.\n",
       "\n",
       "9. **Measurement and Analysis**: Techniques like photometric measurement, 2,3-oxidosqualene analysis, and β-carotene extraction are employed to quantify and study β-carotene production and its intermediates.\n",
       "\n",
       "10. **Synthetic Biology Approaches**: Synthetic biology strategies, including promoter shuffling, sequential gene integration, and decentralized assembly, are utilized to construct β-carotene biosynthesis pathways efficiently.\n",
       "\n",
       "Overall, the research aims to develop microbial platforms for economically viable and sustainable β-carotene production through various genetic and metabolic manipulations, with a focus on Yarrowia lipolytica due to its potential for industrial-scale bioproduction."
      ],
      "text/plain": [
       "<IPython.core.display.Markdown object>"
      ]
     },
     "metadata": {},
     "output_type": "display_data"
    }
   ],
   "source": [
    "from IPython.display import Markdown\n",
    "\n",
    "def trim_text(text, max_length):\n",
    "    \"\"\"\n",
    "    Trims the text to the specified maximum length, appending \"...\" if the text was trimmed.\n",
    "    \n",
    "    Args:\n",
    "    - text (str): The text to trim.\n",
    "    - max_length (int): The maximum allowed length of the text.\n",
    "\n",
    "    Returns:\n",
    "    - str: The trimmed text.\n",
    "    \"\"\"\n",
    "    if len(text) > max_length:\n",
    "        return text[:max_length].rsplit(' ', 1)[0] + \"...\"  # Trim to max_length, avoid cutting words in half\n",
    "    else:\n",
    "        return text\n",
    "    \n",
    "# Apply the trimming function to node_names_text\n",
    "cut_off_chunk_size = 30000\n",
    "trimmed_node_names_text = trim_text(node_names_text, cut_off_chunk_size)\n",
    "\n",
    "# Construct the prompt with the potentially trimmed node_names_text\n",
    "prompt = \"These are the terms related to \" + filepath + keyword + \", categorize them and write a summary report.\" + trimmed_node_names_text\n",
    "\n",
    "messages = [\n",
    "    {\"role\": \"system\", \"content\": \"You are a helpful assistant.\"},\n",
    "    {\"role\": \"user\", \"content\": prompt}\n",
    "]\n",
    "text = tokenizer.apply_chat_template(\n",
    "    messages,\n",
    "    tokenize=False,\n",
    "    add_generation_prompt=True\n",
    ")\n",
    "model_inputs = tokenizer([text], return_tensors=\"pt\").to(device)\n",
    "\n",
    "generated_ids = model.generate(\n",
    "    model_inputs.input_ids,\n",
    "    max_new_tokens=5000\n",
    ")\n",
    "generated_ids = [\n",
    "    output_ids[len(input_ids):] for input_ids, output_ids in zip(model_inputs.input_ids, generated_ids)\n",
    "]\n",
    "\n",
    "response1 = tokenizer.batch_decode(generated_ids, skip_special_tokens=True)[0]\n",
    "display(Markdown(response1))"
   ]
  },
  {
   "cell_type": "code",
   "execution_count": 4,
   "id": "f5c54029-fb95-4474-98e5-24328c586145",
   "metadata": {
    "jp-MarkdownHeadingCollapsed": true,
    "tags": []
   },
   "outputs": [],
   "source": [
    "# "
   ]
  }
 ],
 "metadata": {
  "kernelspec": {
   "display_name": "Python 3",
   "language": "python",
   "name": "python3"
  },
  "language_info": {
   "codemirror_mode": {
    "name": "ipython",
    "version": 3
   },
   "file_extension": ".py",
   "mimetype": "text/x-python",
   "name": "python",
   "nbconvert_exporter": "python",
   "pygments_lexer": "ipython3",
   "version": "3.8.12"
  }
 },
 "nbformat": 4,
 "nbformat_minor": 5
}
