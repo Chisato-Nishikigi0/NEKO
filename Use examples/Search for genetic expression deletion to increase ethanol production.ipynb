{
 "cells": [
  {
   "cell_type": "code",
   "execution_count": 1,
   "id": "fd309a74-10d2-40f5-a50e-2e943ea8ff6f",
   "metadata": {},
   "outputs": [
    {
     "name": "stderr",
     "output_type": "stream",
     "text": [
      "C:\\Users\\shawn\\AppData\\Local\\Programs\\Python\\Python311\\Lib\\site-packages\\transformers\\modeling_utils.py:4713: FutureWarning: `_is_quantized_training_enabled` is going to be deprecated in transformers 4.39.0. Please use `model.hf_quantizer.is_trainable` instead\n",
      "  warnings.warn(\n"
     ]
    },
    {
     "data": {
      "application/vnd.jupyter.widget-view+json": {
       "model_id": "fdc669486e644adea3c3f7ffdfde0998",
       "version_major": 2,
       "version_minor": 0
      },
      "text/plain": [
       "Loading checkpoint shards:   0%|          | 0/5 [00:00<?, ?it/s]"
      ]
     },
     "metadata": {},
     "output_type": "display_data"
    }
   ],
   "source": [
    "import os\n",
    "os.environ[\"CUDA_VISIBLE_DEVICES\"] = \"1\"\n",
    "# os.environ[\"USE_FLASH_ATTENTION\"] = \"1\"\n",
    "\n",
    "from transformers import AutoModelForCausalLM, AutoTokenizer\n",
    "device = \"cuda\" # the device to load the model onto\n",
    "\n",
    "model = AutoModelForCausalLM.from_pretrained(r\"D:\\Local LLM\\models\\Qwen\\Qwen2.5\\Qwen2.5-32B-Instruct-GPTQ-Int4\",\n",
    "    device_map=\"auto\", torch_dtype=\"auto\"\n",
    ")\n",
    "tokenizer = AutoTokenizer.from_pretrained(r\"D:\\Local LLM\\models\\Qwen\\Qwen2.5\\Qwen2.5-32B-Instruct-GPTQ-Int4\")\n",
    "\n",
    "#Qwen1.5-72B-Chat-GPTQ-Int4\n",
    "#Qwen1.5-14B-Chat"
   ]
  },
  {
   "cell_type": "code",
   "execution_count": 2,
   "id": "4f3583d1-435c-42cc-b90a-8cf064dc3ea6",
   "metadata": {
    "scrolled": true,
    "tags": []
   },
   "outputs": [
    {
     "name": "stdout",
     "output_type": "stream",
     "text": [
      "overexpression of gene HST3, deletion of gene RPS4a, deletion of gene DSE2, loss of gene YKL222C, knockout of SDH subunit gene, no increase in autophagy activity upon ethanol stress, ethanol production increased, loss of gene YHL044W, increased yield of ethanol, loss of gene ARN1, overexpression of TAL2, engineering of subcellular trafficking, overexpression of genes involved in pyruvate metabolism, expression of gene HuPFK1, expression of gene pathways responsible for pyruvate-to-ethanol pathway, overexpression of gene HXS1, replacement of gene TDH3 with GDP1, expression of gene pathways responsible for pyruvate-to-tricarboxylic acid (TCA) pathway, overexpression of gene ENA5, deletion of gene ERG4, deletion of gene ERG3, turning down expression of pyc gene, increased specific ethanol production rate, deletion of gene PHO13, increase in ethanol productivity, deletion of gene SCP160, increase in ethanol production from cellobiose by 200%, deletion of ATG13, increase in ethanol production from glucose by 57%, yield of 2-phenylethanol increased, increased ethanol productivity, deletion of gene function Tcb1, increased ethanol concentration to 50.55 g/L, expression of gene pathways responsible for acetic acid stress, deletion of gene PFK1, decrease in acetate and its derivatives, consequence increased ethanol tolerance, increased ethanol yields, overexpression of DAS1, expression of gene GAPN, loss of gene YHL045W, expression of glucoamylase gene, overexpression of genes involved in reducing power production, expression of gene HXK2S14A, external enzyme supplementation, introduction of amino acid substitution aro9 I544W, increased ethanol generation, deletion of gene HapB, deletion of gene Bud27, increased ethanol yield improvement, deletion of gene isu1, deletion of gene znf1, deletion of gene RTT109, increased ethanol production efficiency at stationary stage to antagonize E. coli, overexpression of gene QDR3, expression of TV-AFB<sub>1</sub>D in S. cerevisiae, deletion of gene GRE3, deletion of gene pheA, overexpression of GLT-1, loss of gene YHL048C-A, expression of gene HuPYK1, repression of Rpn4 binding sites in PRB1 promoter, loss of gene YHL041W, deregulation of PRE1 leading to Rpn4 accumulation, overexpression of gene XK, loss of gene URA1, overexpression of gene pGcyaDak, overexpression of genes involved in glycolysis, deletion of gene CTS1, increase in NADH content, increase in ethanol production from xylose, deletion of gene EGT2, introduction of E. coli genes, regulation of expression of gene ASP3, loss of gene YHL046W-A, 1.4-fold increase in ethanol production, screening of biosynthetic enzymes, increased ethanol fermentation efficiency, loss of gene YHL050C, increased ethanol yield, increased expression of genes involved in glucose transport and glycolysis, deletion of gene SSK1, expression of gene HXK2, deregulation of gene PRE1 leading to Rpn4 accumulation, increased ethanol yield from xylose, deletion of gene FPS1, increased ethanol production from xylose, increased homocitrate synthesis during growth on ethanol, expression of gene pathways responsible for DNA repair, loss of gene PAU13, loss of gene COS9, co-expression of gene yahK, 10% increase of ethanol production from glucose, simplification of seven compartment model to two intracellular compartments, deletion of gene B3GNT3, deletion of gene ACE2, expression of gene pathways responsible for growth and ethanol stress, increase in ethanol yield, deletion of gene Fpt1, regulation of expression of gene Tos8p, overexpression of genes involved in pentose phosphate pathway, consequence ethanol production rate increase, loss of gene YHL049C, loss of gene YHL042W, deletion of gene ADY2, overexpression of CDT-1/CDT-2, loss of gene SRY1, deletion of gene HAP4-A, deletion of gene ira2, increase in intracellular glucose, increase in ethanol production by 23%, consequence increased ethanol yield improvement, up-regulation of genes involved in sugar fermentation, increased ethanol production rate, deletion of gene metJ, loss of gene JEN1, deletion of gene ADH2, overexpression of gene znf1, deletion of gene SPT15, increased maximum concentration of ethanol, co-overexpression of Haa1p and Tye7p, increased ethanol production efficiency in stationary stage, expression of gene pathways responsible for oxidative stress, loss of gene ECM34, overexpression of gene GLT1, increased sensitivity to β-mercaptoethanol, increased specific ethanol productivity, loss of gene FRE2, co-expression of complementary enzymes, deletion of gene RPN4, deletion of gene YHR087w, increased ethanol tolerance, deletion of gene ERG5, regulation of expression of gene Crz1p, loss of gene COS8, overexpression of PGM2, increased production rate of ethanol, deletion of gene CAT8, increased ethanol production, co-expression of gene aro9, consequence increase in ethanol, increase in oleoylethanolamide production, consequence increased ethanol yields, increased ethanol yield in medium with 30 mM acetic acid, 2-phenylethanol yield increased 4.1-fold, increase in ethanol content, loss of gene YKL223W, overexpression of gene LYS21, deletion of gene TUP1, deletion of gene gpd1, loss of gene PAU16, overexpression of gene ari1, deletion of gene function tcb1, increase in ethanol production, deletion of gene SWI5, increase in ethanol yield on glucose, gene expression of metabolic specialization genes, loss of gene YKL050W-A, deletion of gene gpd2, loss of gene YKL225W, deletion of gene qdr3, SNF1 overexpression, increased sensitivity to ethanol, introduction of ScADH1, loss of gene ARN2, increased ethanol production by 14.7%, expression of gene SOR1, increased ethanol production capacity in aldehyde-containing environment, deletion of gene SIC1, deletion of gene GPD2, increased lysophosphatidylethanolamine level before freezing, increases ethanol level, expression of NAD(+)-dependent 6-phosphogluconate dehydrogenase, increased PRB1 expression upon ethanol stress, overexpression of gene CgMCUR1, more than 2 times increase of ethanol production from xylose, loss of gene MCH2, regulation of expression of gene YOL162W\n"
     ]
    }
   ],
   "source": [
    "from pyvis.network import Network\n",
    "import pandas as pd\n",
    "import re\n",
    "import networkx as nx\n",
    "\n",
    "# Load the Excel file\n",
    "filepath = 'modified_updated(Qwen2.5 32b)_saccharomyces cerevisiae production gene expressionsaccharomyces cerevisiae production gene deletion_causal.xlsx'\n",
    "df = pd.read_excel(filepath, engine='openpyxl')\n",
    "\n",
    "# Initialize NetworkX Graph\n",
    "G = nx.Graph()\n",
    "\n",
    "# Nodes to exclude\n",
    "words_to_exclude = []\n",
    "\n",
    "# Regular expression to match the pattern (entity A, entity B)\n",
    "pattern = r'\\(([^,]+), ([^\\)]+)\\)'\n",
    "\n",
    "# Iterate over the DataFrame rows to extract entity pairs and their sources\n",
    "for _, row in df.iterrows():\n",
    "    value = row['Answer to Question 2']\n",
    "    source = row['Title']  # Extract source for each pair\n",
    "\n",
    "    matches = re.findall(pattern, value)\n",
    "    for entity_a, entity_b in matches:\n",
    "        # Check if any word to exclude is part of the entity names\n",
    "        if not any(word in entity_a for word in words_to_exclude) and not any(word in entity_b for word in words_to_exclude):\n",
    "            G.add_node(entity_a, label=entity_a)\n",
    "            G.add_node(entity_b, label=entity_b)\n",
    "            G.add_edge(entity_a, entity_b, title=source)\n",
    "\n",
    "def search_network(graph, keywords, depth=1):\n",
    "    # Ensure all keywords are lowercase for case-insensitive search\n",
    "    keyword_list = [kw.lower() for kw in keywords]\n",
    "\n",
    "    # Helper function to check if a node label contains all keywords\n",
    "    def contains_all_keywords(label):\n",
    "        return all(kw in label.lower() for kw in keyword_list)\n",
    "\n",
    "    # Collect nodes that contain all keywords in their label\n",
    "    nodes_of_interest = set()\n",
    "    for node, attr in graph.nodes(data=True):\n",
    "        if 'label' in attr and contains_all_keywords(attr['label']):\n",
    "            nodes_of_interest.add(node)\n",
    "\n",
    "    # Expand search to include neighbors up to the specified depth\n",
    "    for _ in range(depth):\n",
    "        neighbors = set()\n",
    "        for node in nodes_of_interest:\n",
    "            neighbors.update(nx.neighbors(graph, node))\n",
    "        nodes_of_interest.update(neighbors)\n",
    "    \n",
    "    # Return a subgraph containing only relevant nodes and edges\n",
    "    return graph.subgraph(nodes_of_interest).copy()\n",
    "\n",
    "# Perform search with a list of keywords\n",
    "word_combinations = [\"ethanol\",\"increase\"]  # Replace with your keywords\n",
    "filtered_graph = search_network(G, word_combinations)\n",
    "\n",
    "# Extract node names from the filtered graph\n",
    "node_names = list(filtered_graph.nodes())\n",
    "\n",
    "# Prepare a simple text summary of node names\n",
    "node_names_text = \", \".join(node_names)\n",
    "\n",
    "# Now, `node_names_text` contains a clean, comma-separated list of node names, ready for summarization\n",
    "print(node_names_text)\n",
    "\n",
    "# Initialize Pyvis network with the filtered graph\n",
    "net = Network(height=\"2160px\", width=\"100%\", bgcolor=\"#222222\", font_color=\"white\")\n",
    "net.from_nx(filtered_graph)\n",
    "\n",
    "# Continue with setting options and saving the network as before\n",
    "net.set_options(\"\"\"\n",
    "{\n",
    "  \"physics\": {\n",
    "    \"barnesHut\": {\n",
    "      \"gravitationalConstant\": -80000,\n",
    "      \"centralGravity\": 0.5,\n",
    "      \"springLength\": 75,\n",
    "      \"springConstant\": 0.05,\n",
    "      \"damping\": 0.09,\n",
    "      \"avoidOverlap\": 0.5\n",
    "    },\n",
    "    \"maxVelocity\": 100,\n",
    "    \"minVelocity\": 0.1,\n",
    "    \"solver\": \"barnesHut\",\n",
    "    \"timestep\": 0.3,\n",
    "    \"stabilization\": {\n",
    "        \"enabled\": true,\n",
    "        \"iterations\": 500,\n",
    "        \"updateInterval\": 10,\n",
    "        \"onlyDynamicEdges\": false,\n",
    "        \"fit\": true\n",
    "    }\n",
    "  },\n",
    "  \"nodes\": {\n",
    "    \"font\": {\n",
    "      \"size\": 30,\n",
    "      \"color\": \"white\"\n",
    "    }\n",
    "  }\n",
    "}\n",
    "\"\"\")\n",
    "\n",
    "# Save and show the network\n",
    "net.write_html('filtered_entity_' + \"_\".join(word_combinations) + '_network.html')\n"
   ]
  },
  {
   "cell_type": "code",
   "execution_count": 3,
   "id": "26cd6037-212c-4536-a5ae-99332db5c558",
   "metadata": {},
   "outputs": [
    {
     "name": "stderr",
     "output_type": "stream",
     "text": [
      "The attention mask is not set and cannot be inferred from input because pad token is same as eos token. As a consequence, you may observe unexpected behavior. Please pass your input's `attention_mask` to obtain reliable results.\n",
      "C:\\Users\\shawn\\AppData\\Local\\Programs\\Python\\Python311\\Lib\\site-packages\\transformers\\models\\qwen2\\modeling_qwen2.py:580: UserWarning: 1Torch was not compiled with flash attention. (Triggered internally at C:\\actions-runner\\_work\\pytorch\\pytorch\\builder\\windows\\pytorch\\aten\\src\\ATen\\native\\transformers\\cuda\\sdp_utils.cpp:555.)\n",
      "  attn_output = torch.nn.functional.scaled_dot_product_attention(\n"
     ]
    },
    {
     "data": {
      "text/markdown": [
       "### Summary Report: Gene Modifications and Their Impact on Ethanol Production in Saccharomyces cerevisiae\n",
       "\n",
       "#### Introduction\n",
       "This report summarizes the effects of various gene modifications on ethanol production in Saccharomyces cerevisiae. The modifications include gene deletions, overexpressions, and other genetic interventions aimed at enhancing ethanol yield, productivity, and tolerance.\n",
       "\n",
       "#### Gene Deletions\n",
       "1. **Deletion of Genes Involved in Metabolism and Stress Response**\n",
       "   - *RPS4a*, *DSE2*, *YKL222C*, *SDH subunit*, *YHL044W*, *ARN1*, *ERG4*, *ERG3*, *PHO13*, *SCP160*, *ATG13*, *Tcb1*, *PFK1*, *HapB*, *Bud27*, *isu1*, *znf1*, *RTT109*, *GRE3*, *pheA*, *CTS1*, *EGT2*, *SSK1*, *FPS1*, *B3GNT3*, *ACE2*, *Fpt1*, *ADY2*, *SRY1*, *HAP4-A*, *ira2*, *metJ*, *JEN1*, *ADH2*, *SPT15*, *RPN4*, *YHR087w*, *ERG5*, *CAT8*.\n",
       "   - These deletions often led to increased ethanol production rates, improved ethanol yield, or enhanced tolerance to ethanol stress.\n",
       "\n",
       "2. **Deletions Leading to Increased Ethanol Yield**\n",
       "   - *YHL044W*, *ARN1*, *ERG4*, *ERG3*, *PHO13*, *SCP160*, *ATG13*, *GRE3*, *CTS1*, *EGT2*, *FPS1*, *B3GNT3*, *ACE2*, *Fpt1*, *ADY2*, *SRY1*, *HAP4-A*, *ira2*, *metJ*, *JEN1*, *ADH2*, *SPT15*, *RPN4*, *YHR087w*, *ERG5*, *CAT8*.\n",
       "   - Specific deletions like *PHO13*, *SCP160*, and *FPS1* resulted in significant increases in ethanol production, particularly from glucose and xylose.\n",
       "\n",
       "#### Gene Overexpressions\n",
       "1. **Overexpression of Genes Involved in Metabolism and Stress Response**\n",
       "   - *HST3*, *TAL2*, *genes involved in pyruvate metabolism*, *HuPFK1*, *pathways responsible for pyruvate-to-ethanol pathway*, *HXS1*, *ENA5*, *DAS1*, *GAPN*, *genes involved in reducing power production*, *HXK2S14A*, *QDR3*, *GLT-1*, *genes involved in glycolysis*, *PGM2*.\n",
       "   - Overexpression of these genes often led to increased ethanol yield and productivity.\n",
       "\n",
       "2. **Overexpressions Leading to Enhanced Ethanol Production**\n",
       "   - *HST3*, *TAL2*, *genes involved in pyruvate metabolism*, *HuPFK1*, *pathways responsible for pyruvate-to-ethanol pathway*, *HXS1*, *ENA5*, *DAS1*, *GAPN*, *genes involved in reducing power production*, *HXK2S14A*, *QDR3*, *GLT-1*, *genes involved in glycolysis*, *PGM2*.\n",
       "   - For example, overexpression of *HXS1* and *ENA5* significantly increased ethanol production rates.\n",
       "\n",
       "#### Other Genetic Interventions\n",
       "1. **Engineering of Subcellular Trafficking**\n",
       "   - Engineering of subcellular trafficking mechanisms can enhance ethanol production by optimizing the localization and function of key metabolic enzymes.\n",
       "\n",
       "2. **Introduction of External Enzymes and Amino Acid Substitutions**\n",
       "   - Introduction of external enzymes and amino acid substitutions (e.g., *aro9 I544W*) can improve ethanol yield and tolerance.\n",
       "\n",
       "3. **Expression of Pathways Responsible for Specific Functions**\n",
       "   - Expression of pathways responsible for acetic acid stress, DNA repair, oxidative stress, and growth under ethanol stress can enhance overall ethanol production efficiency.\n",
       "\n",
       "#### Summary of Key Findings\n",
       "- **Increased Ethanol Production**: Several gene deletions and overexpressions led to increased ethanol production, particularly from glucose and xylose. Examples include the deletion of *PHO13*, *SCP160*, and *FPS1* and the overexpression of *HXS1* and *ENA5*.\n",
       "- **Enhanced Ethanol Yield**: Modifying genes involved in metabolic pathways and stress responses often resulted in higher ethanol yields. Notable examples include the deletion of *GRE3* and *metJ* and the overexpression of *TAL2* and *DAS1*.\n",
       "- **Improved Ethanol Tolerance**: Certain gene modifications, such as the deletion of *ERG4* and *ERG5*, and the overexpression of *QDR3*, enhanced yeast tolerance to ethanol stress, allowing for higher ethanol concentrations.\n",
       "\n",
       "#### Conclusion\n",
       "The genetic modifications described in this report demonstrate significant potential for improving ethanol production in Saccharomyces cerevisiae. By strategically deleting or overexpressing specific genes, researchers can optimize yeast strains for higher ethanol yields, productivity, and tolerance. Future research should focus on combining multiple beneficial modifications to achieve even greater improvements in ethanol production efficiency."
      ],
      "text/plain": [
       "<IPython.core.display.Markdown object>"
      ]
     },
     "metadata": {},
     "output_type": "display_data"
    }
   ],
   "source": [
    "from IPython.display import Markdown\n",
    "\n",
    "def trim_text(text, max_length):\n",
    "    if len(text) > max_length:\n",
    "        return text[:max_length].rsplit(' ', 1)[0] + \"...\"  # Trim to max_length, avoid cutting words in half\n",
    "    else:\n",
    "        return text\n",
    "    \n",
    "# Apply the trimming function to node_names_text\n",
    "cut_off_chunk_size = 5000\n",
    "trimmed_node_names_text = trim_text(node_names_text, cut_off_chunk_size)\n",
    "keyword = \", \".join(word_combinations)\n",
    "\n",
    "# Construct the prompt with the potentially trimmed node_names_text\n",
    "prompt = \"These are the terms related to \" + filepath + keyword + \", categorize them and write a summary report.   \" + trimmed_node_names_text\n",
    "\n",
    "messages = [\n",
    "    {\"role\": \"system\", \"content\": \"You are a helpful assistant.\"},\n",
    "    {\"role\": \"user\", \"content\": prompt}\n",
    "]\n",
    "text = tokenizer.apply_chat_template(\n",
    "    messages,\n",
    "    tokenize=False,\n",
    "    add_generation_prompt=True\n",
    ")\n",
    "model_inputs = tokenizer([text], return_tensors=\"pt\").to(device)\n",
    "\n",
    "generated_ids = model.generate(\n",
    "    model_inputs.input_ids,\n",
    "    max_new_tokens=5000\n",
    ")\n",
    "generated_ids = [\n",
    "    output_ids[len(input_ids):] for input_ids, output_ids in zip(model_inputs.input_ids, generated_ids)\n",
    "]\n",
    "\n",
    "response1 = tokenizer.batch_decode(generated_ids, skip_special_tokens=True)[0]\n",
    "display(Markdown(response1))"
   ]
  },
  {
   "cell_type": "code",
   "execution_count": 4,
   "id": "f5c54029-fb95-4474-98e5-24328c586145",
   "metadata": {
    "jp-MarkdownHeadingCollapsed": true,
    "tags": []
   },
   "outputs": [],
   "source": [
    "# "
   ]
  }
 ],
 "metadata": {
  "kernelspec": {
   "display_name": "Python 3 (ipykernel)",
   "language": "python",
   "name": "python3"
  },
  "language_info": {
   "codemirror_mode": {
    "name": "ipython",
    "version": 3
   },
   "file_extension": ".py",
   "mimetype": "text/x-python",
   "name": "python",
   "nbconvert_exporter": "python",
   "pygments_lexer": "ipython3",
   "version": "3.11.0"
  }
 },
 "nbformat": 4,
 "nbformat_minor": 5
}
