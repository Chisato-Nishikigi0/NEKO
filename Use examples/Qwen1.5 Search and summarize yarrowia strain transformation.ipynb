{
 "cells": [
  {
   "cell_type": "code",
   "execution_count": 1,
   "id": "ba75b0fc-5c29-4c8b-b50a-8d26702e7dfd",
   "metadata": {},
   "outputs": [
    {
     "data": {
      "application/vnd.jupyter.widget-view+json": {
       "model_id": "d4b654afb2314d49ab5c201755d6d356",
       "version_major": 2,
       "version_minor": 0
      },
      "text/plain": [
       "Loading checkpoint shards:   0%|          | 0/38 [00:00<?, ?it/s]"
      ]
     },
     "metadata": {},
     "output_type": "display_data"
    },
    {
     "name": "stderr",
     "output_type": "stream",
     "text": [
      "Special tokens have been added in the vocabulary, make sure the associated word embeddings are fine-tuned or trained.\n"
     ]
    }
   ],
   "source": [
    "import os\n",
    "os.environ[\"CUDA_VISIBLE_DEVICES\"] = \"1,2,3,4,5,6,7\"\n",
    "\n",
    "from transformers import AutoModelForCausalLM, AutoTokenizer\n",
    "device = \"cuda\" # the device to load the model onto\n",
    "\n",
    "model = AutoModelForCausalLM.from_pretrained(\"/storage1/fs1/yinjie.tang/Active/Shawn_Xiao/Qwen1.5-72B-Chat\",\n",
    "    device_map=\"auto\", torch_dtype=\"auto\"\n",
    ")\n",
    "tokenizer = AutoTokenizer.from_pretrained(\"/storage1/fs1/yinjie.tang/Active/Shawn_Xiao/Qwen1.5-72B-Chat\")\n",
    "\n",
    "#Qwen1.5-72B-Chat-GPTQ-Int4\n",
    "#Qwen1.5-14B-Chat"
   ]
  },
  {
   "cell_type": "code",
   "execution_count": 2,
   "id": "4f3583d1-435c-42cc-b90a-8cf064dc3ea6",
   "metadata": {
    "scrolled": true,
    "tags": []
   },
   "outputs": [
    {
     "name": "stdout",
     "output_type": "stream",
     "text": [
      "Integrative transformation of Yarrowia lipolytica)5. (Dower WJ, pINA1054, pINA1055, ('steroids biotransformation', 'one-step protocol', Yarrowia transformation efficiency, Dimorphic yeast Yarrowia lipolytica, Transformation method, Transformation efficiency, 'electroporation procedure', DH10β E. coli, Beckerich JM, et al.', Yarrowia lipolytica one-step transformation, 'YNB casa', transformation of E. coli strains, 'Saccharomyces cerevisiae transformation methods', LiAc concentration, 'TAGs', cloning and transformation, methods, Agrobacterium tumefaciens, similar transformation efficiency)) (pINA1053, Transformation protocol, 'lipase', lactone transformation, lithium acetate procedure, Barth and Gaillardin (1996, fatty acid biotransformation, 'electroporation method', Tn3 transposon, transformations (b-oxidation, lactones, post-transformation growth, 'Pichia', genetic transformation, '2, dimorphic yeast, Saccharomyces cerevisiae and Yarrowia lipolytica). Some key entities mentioned are:1. Genetic engineering: Transformation, mono-fluorocitrate transformation, Fatty acids, 'P. pastoris', Y. lipolytica W29, modified electroporation method, Y. lipolytica Po1g transformation, ((Oxy-1, Oxy-3, Oxy-4, Oxy-9, Oxy-10 strains, p-nitrostyrene oxide transformation, 'progesterone biotransformation', transformation selection, cell density, 'LiAc/SS carrier DNA/PEG method, ((human liver cytochrome P450 genes, steroid biotransformations, 'DNA ligation', resorufin transformation, 'ura3d4 defective allele', Voltage, yeast transformation, yeast transformation protocol, hydroxyresorufin, PEG, Y. lipolytica cells, 'cell density', A. tumefaciens, direct transformation/in vivo transposition, lithium acetate method, Δpex10 cassette, integrative transformation, non-homologous transformation, oxygen mass transfer, biotransformation, yeast transformation methods, 'Transformation of yeast', 63, 'high-throughput transformation', yeast Yarrowia lipolytica, ((1.31 strain, Y. lipolytica transformation), (substrate transformation into (R, transformation, Yeast transformation procedure, integration vectors, E. coli transformation, betulin transformation, β-carotene production, 'Method For Non-homologous Transformation', high-throughput transformation method, Yarrowia lipolytica, Larroude, M. et al., Meraner J, Burgstaller W, 'oxygen mass transfer', 'biotransformation', Y. lipolytica transformations, 'methyl ricinoleate', Lipase Expression Cassette Integration, 'Y. lipolytica AMM', hygromycin-resistance marker, 'transformation methods', lactone, E. coli, -10% transformation efficiency), 'Lithium acetate method', zeta-based vectors, transformation support, 'universal' vector system, Non-homologous integration of auto-cloning zeta-based vectors, Transformation Efficiency, 'mono-fluoroacetate', 'lithium acetate', 'IM buffer', 'lysine', (TNT transformation, selected plates, 'standard chemical protocols', 'selective media', A. adeninivorans transformation efficiency, 'Wang et al. (2011)', biotransformation, volatile fatty acids, ferrihydrite, 'defective selection marker', transformation efficiency, 'integrative transformation', 'DNA preparation from yeast', 'Chen DC', Yarrowia transformation, optimal transformation efficiency, 'Transformation Efficiency', 'bacterial transformation', 'transformation efficiency', eugenol and taxifolin transformation, 'carrier DNA', β-carotene transformation, biotransformations, LB media, Transformation of Yarrowia lipolytica, (Pienaar et al. 2008), High efficiency transformation of E. coli)6. (Gallmetzer M, Y. lipolytica transformation system, 'pEYK1 promoter', high copy number integrants, electroporation, beta-carotene transformation, Y. lipolytica, Miller JF, Ragsdale CW, ('PGMp', 'GAPDHp', 'TEFp' promoters, 'bacterial replication origin', I1. Iipolytica, transformation rate, 'voom', 1 h incubation, (glucose, ammonium sulfate, TNT transformation, Non-homologous transformation, 'transformations', 'electroporation method', Y. lipolytica transformation, Yarrowia lipolytica, 'Escherichia coli M15 strain', plasmid rescue, Lithium-acetate procedure, 'One-step integration PCR', 'enzymatic cascades', co-transformation, 'ten-minute DNA preparation', 'citric acid production'), methyl ricinoleate transformation, Glucose analyses, transformation efficiency, DNA Concentration, low-copy replication plasmid, 'genetic tools', 'ªarrowia lipolytica, 'stationary phase', DTT, 'cotransformation', transformation efficiency enhancement, foreign genes, S) forms))), restriction enzymes, PCR, ligation, E. coli transformation, Y. lipolytica PO1f, transformation reaction, GUT2, TGL4, MFE1 gene deletions, hph cassette, hydroxyurea, transformation protocol, 'GRAS classification', 'ricinoleic acid biotransformation', 'kanamycin sulphate', (NCIM 3589), YNB medium, underlying mechanism, NHEJ, high transformation frequency, Agrobacterium-mediated transformation, lithium-acetate method, SfiI, transformation mix, 'transformation frequency', 'hydroxy fatty acids biotransformation', ku70 deletion, 'Yarrowia lipolytica', bacterial transformation/conjugation, 'acyl-CoA oxidase isozymes', cell concentration, 'integrative transformation, transformation frequency, Transformation Step, 'leu2-270', 'electroporation', various biotechnological applications, 'S. cerevisiae DC1-8', electroporation transformation, 'steroid biotransformation', Yarrowia, Enzymes involved in substrate transformation, TNT transformation, pesticide transformation, 'non-homologous transformation system', 'plasmid transformation', 'Transformation', 'IM agar plate', one-step transformation, biotransformation of methyl ricinoleate, naringenin biotransformation, 'heat shock method', lactone concentration, 'pEYK450', 'pEYK300Ab', 'pEYK300aB', 'yeast cells transformation', bacterial transformation, FKP355 transformation, lignin degradation, 'surfactants', (iron), transformation of Y. lipolytica, DMSO, gene integration, 'Aliphatic hydrocarbons', ApaI linearization, Yeast species, transformation confirmation, lithium acetate, 'Saccharomyces cerevisiae', 'green note aroma compounds', yarrowia lipolytica mutant library, PEG solution, lithium acetate, dithiothreitol, transformation host, 'Hybond-N + nylon membrane', (LB medium, ampicillin, 37°C, 8 h, dithiothreitol, 'gene knockouts', substrate range expansion) (high-throughput transformation, lithium acetate treatment, 64, 'URA3', protocol by Davidow et al., 'high-efficiency transformation', Yarrowia lipolytica one-step transformation, transformation process, EcoRI shotgun, YIp333, pTG841, 'Davidow LS, Dezeeuw JR', Yarrowia lipolytica transformation, Escherichia coli transformation, '11 Wang JH, 'biotransformation', 'Homologous recombination', (strains and mutants, ∼2 μg linearized DNA, transformation mechanisms, Yarrowia lipolytica transformation, 'acyl coenzyme A oxidase isozymes', cytochrome P-45017, E. coli hph gene, Yarrowia lipolytica mutant library, 'Zymogen Frozen EZ Yeast Transformation Kit II', 100 μL transformation mixture, 'YPD media', 'integrative fragments', transformation medium, biotransformation yield, Hybrid approach, 'transformation system', substrate, piggyBac approach, Y. lipolytica strain POld, 'defective selection marker', 'transformation technologies', 'genetic engineering transformation', 'Correct Integration', 4, 6-trinitrotoluene transformation, Yarrowia lipolytica, Y. lipolytica TGL3, Saccharomyces cerevisiae, Transformed Y. lipolytica, 'pretreatment with DTT/LiAc', recombination, white colonies, LiAc/PEG transformation, 'salmon sperm DNA', 150 mM LiAc, minimal medium, successive transformation with carotenogenic genes, 'yeast cassette', Yarrowia lipolytica)), Transformation frequency, (bromoepoxy alkanes and epoxy esters transformation)), ((indigenous enzymatic systems, esterases and lipases, LiAc/SSCD/PEG method, biotransformation, 'Chen DC, 'non-homologous transformation', Y. lipolytica transformation, integration, 'fine chemistry', 'Integrative transformation', 'YPD plate', 'transformation', Transformation, solid selection media, 'Saccharomyces cerevisiae transformation', 'E. coli transformation', chemical transformation, voltage, 'DNA quantity', 'transformant screening', '1985 transformation method', 'dimorphic yeast', 'transformation', TWB Biotransformation platform, efficient transformation, '100 ng DNA', 'high-throughput transformation method', transfection, transformation, biotransformation)), antisense RNA, gene cloning, promoter elements, overlapping genes2. Proteins and enzymes: Saccharopine dehydrogenase, alkaline extracellular protease (XPR2, 'lithium acetate method'\n"
     ]
    }
   ],
   "source": [
    "from pyvis.network import Network\n",
    "import pandas as pd\n",
    "import re\n",
    "import networkx as nx\n",
    "\n",
    "# Load the Excel file\n",
    "filepath = 'modified_updated(Qwen1.5 14b)_Yarrowia_pdf_causal.xlsx'\n",
    "df = pd.read_excel(filepath, engine='openpyxl')\n",
    "\n",
    "# Initialize NetworkX Graph\n",
    "G = nx.Graph()\n",
    "\n",
    "# Nodes to exclude\n",
    "# words_to_exclude = ['Synechocystis', 'Cyanobacteria', 'cyanobacteria']\n",
    "words_to_exclude = []\n",
    "\n",
    "# Regular expression to match the pattern (entity A, entity B)\n",
    "pattern = r'\\(([^,]+), ([^\\)]+)\\)'\n",
    "\n",
    "# Iterate over the DataFrame rows to extract entity pairs and their sources\n",
    "for _, row in df.iterrows():\n",
    "    # value = row['Response to New Question']\n",
    "    value = row['Answer to Question 2']\n",
    "    source = row['Title']  # Extract source for each pair\n",
    "\n",
    "    matches = re.findall(pattern, value)\n",
    "    for entity_a, entity_b in matches:\n",
    "        # Check if any word to exclude is part of the entity names\n",
    "        if not any(word in entity_a for word in words_to_exclude) and not any(word in entity_b for word in words_to_exclude):\n",
    "            G.add_node(entity_a, label=entity_a)\n",
    "            G.add_node(entity_b, label=entity_b)\n",
    "            G.add_edge(entity_a, entity_b, title=source)\n",
    "\n",
    "def search_network(graph, keyword, depth=1):\n",
    "    nodes_of_interest = {n for n, attr in graph.nodes(data=True) if keyword.lower() in attr['label'].lower()}\n",
    "    for _ in range(depth):\n",
    "        for node in list(nodes_of_interest):\n",
    "            nodes_of_interest.update(set(nx.neighbors(graph, node)))\n",
    "    return graph.subgraph(nodes_of_interest)\n",
    "\n",
    "# Perform search\n",
    "keyword = \"transformation\"  # Replace with your keyword\n",
    "filtered_graph = search_network(G, keyword)\n",
    "\n",
    "# Extract node names from the filtered graph\n",
    "node_names = list(filtered_graph.nodes())\n",
    "\n",
    "# Prepare a simple text summary of node names\n",
    "node_names_text = \", \".join(node_names)\n",
    "\n",
    "# Now, `node_names_text` contains a clean, comma-separated list of node names, ready for summarization\n",
    "print(node_names_text)\n",
    "\n",
    "# Initialize Pyvis network with the filtered graph\n",
    "net = Network(height=\"2160px\", width=\"100%\", bgcolor=\"#222222\", font_color=\"white\")\n",
    "net.from_nx(filtered_graph)\n",
    "\n",
    "# Continue with setting options and saving the network as before\n",
    "net.set_options(\"\"\"\n",
    "{\n",
    "  \"physics\": {\n",
    "    \"barnesHut\": {\n",
    "      \"gravitationalConstant\": -80000,\n",
    "      \"centralGravity\": 0.5,\n",
    "      \"springLength\": 75,\n",
    "      \"springConstant\": 0.05,\n",
    "      \"damping\": 0.09,\n",
    "      \"avoidOverlap\": 0.5\n",
    "    },\n",
    "    \"maxVelocity\": 100,\n",
    "    \"minVelocity\": 0.1,\n",
    "    \"solver\": \"barnesHut\",\n",
    "    \"timestep\": 0.3,\n",
    "    \"stabilization\": {\n",
    "        \"enabled\": true,\n",
    "        \"iterations\": 500,\n",
    "        \"updateInterval\": 10,\n",
    "        \"onlyDynamicEdges\": false,\n",
    "        \"fit\": true\n",
    "    }\n",
    "  },\n",
    "  \"nodes\": {\n",
    "    \"font\": {\n",
    "      \"size\": 30,\n",
    "      \"color\": \"white\"\n",
    "    }\n",
    "  }\n",
    "}\n",
    "\"\"\")\n",
    "\n",
    "\n",
    "\n",
    "\n",
    "\n",
    "# Save and show the network\n",
    "net.write_html('filterd_entity_network.html')"
   ]
  },
  {
   "cell_type": "code",
   "execution_count": 4,
   "id": "26cd6037-212c-4536-a5ae-99332db5c558",
   "metadata": {},
   "outputs": [
    {
     "data": {
      "text/markdown": [
       "Experiment Procedure for Integrative Transformation of Yarrowia lipolytica:\n",
       "\n",
       "1. **Strain and Media Preparation**:\n",
       "   - Start with a fresh culture of Yarrowia lipolytica strain, such as PO1g or W29, grown in YPD media (yeast extract, peptone, and dextrose) until mid-log phase.\n",
       "   - Prepare minimal medium (YNB Casa) for post-transformation growth.\n",
       "\n",
       "2. **Plasmid Construction and Linearization**:\n",
       "   - Clone the desired gene or construct into an integrative vector like pINA1054 or pINA1055, which contains a selectable marker like hygromycin-resistance or ura3d4 defective allele.\n",
       "   - Linearize the plasmid using restriction enzymes like ApaI or EcoRI to facilitate homologous recombination.\n",
       "\n",
       "3. **Transformation Efficiency Optimization**:\n",
       "   - Adjust transformation conditions to maximize efficiency, possibly using modified electroporation methods or lithium acetate procedures.\n",
       "   - Optimize cell density, typically using stationary phase cells at a high cell density.\n",
       "\n",
       "4. **Electroporation**:\n",
       "   - Resuspend the cells in ice-cold electroporation buffer (IM buffer) without lysine.\n",
       "   - Add the linearized plasmid DNA to the cell suspension, maintaining a low DNA concentration (∼2 μg).\n",
       "   - Perform electroporation using a specific voltage (e.g., 1.5 kV) and pulse duration.\n",
       "   - Incubate the cells in a recovery medium (YPD containing DMSO) for 1 hour at 30°C.\n",
       "\n",
       "5. **Transformation Selection and Growth**:\n",
       "   - Plate the transformed cells on selective media containing the appropriate antibiotic (e.g., hygromycin or nourseothricin) to select for successful transformants.\n",
       "   - Incubate the plates at 30°C for 2-5 days to allow colony formation.\n",
       "\n",
       "6. **Screening and Confirmation**:\n",
       "   - Pick white colonies for further analysis.\n",
       "   - Perform colony PCR to confirm the presence of the integrated gene.\n",
       "   - Optionally, use Southern blotting or other molecular techniques to verify correct integration.\n",
       "\n",
       "7. **Biological Characterization**:\n",
       "   - Assess the functionality of the introduced gene through assays related to the desired trait (e.g., enzyme activity, metabolite production, or biotransformation capacity).\n",
       "   - Monitor growth and transformation efficiency under different conditions to optimize the process.\n",
       "\n",
       "This experimental procedure outlines the general steps for integrating a gene into Yarrowia lipolytica using electroporation and a linearized plasmid. Note that specific details, such as exact DNA concentrations, voltages, and recovery times, may need to be adjusted based on the laboratory's equipment and experience. Additionally, optimization of the transformation process might involve testing different transformation methods (e.g., LiAc/SS carrier DNA/PEG method, direct transformation/in vivo transposition, or Agrobacterium-mediated transformation) and parameters to achieve the highest efficiency."
      ],
      "text/plain": [
       "<IPython.core.display.Markdown object>"
      ]
     },
     "metadata": {},
     "output_type": "display_data"
    }
   ],
   "source": [
    "from IPython.display import Markdown\n",
    "\n",
    "def trim_text(text, max_length):\n",
    "\n",
    "    if len(text) > max_length:\n",
    "        return text[:max_length].rsplit(' ', 1)[0] + \"...\"  # Trim to max_length, avoid cutting words in half\n",
    "    else:\n",
    "        return text\n",
    "    \n",
    "# Apply the trimming function to node_names_text\n",
    "cut_off_chunk_size = 30000\n",
    "trimmed_node_names_text = trim_text(node_names_text, cut_off_chunk_size)\n",
    "\n",
    "# Construct the prompt with the potentially trimmed node_names_text\n",
    "# prompt = \"These are the terms related to \" + filepath + keyword + \", categorize them and write a summary report.\" + trimmed_node_names_text\n",
    "\n",
    "prompt = \"These are the terms related to \" + filepath + keyword + \", I try to do yarrowia lipolytica strain engineering, given these information, write a experiment procedure\" + node_names_text\n",
    "\n",
    "messages = [\n",
    "    {\"role\": \"system\", \"content\": \"You are a helpful assistant.\"},\n",
    "    {\"role\": \"user\", \"content\": prompt}\n",
    "]\n",
    "text = tokenizer.apply_chat_template(\n",
    "    messages,\n",
    "    tokenize=False,\n",
    "    add_generation_prompt=True\n",
    ")\n",
    "model_inputs = tokenizer([text], return_tensors=\"pt\").to(device)\n",
    "\n",
    "generated_ids = model.generate(\n",
    "    model_inputs.input_ids,\n",
    "    max_new_tokens=10000\n",
    ")\n",
    "generated_ids = [\n",
    "    output_ids[len(input_ids):] for input_ids, output_ids in zip(model_inputs.input_ids, generated_ids)\n",
    "]\n",
    "\n",
    "response1 = tokenizer.batch_decode(generated_ids, skip_special_tokens=True)[0]\n",
    "display(Markdown(response1))"
   ]
  },
  {
   "cell_type": "code",
   "execution_count": null,
   "id": "90506a53-7094-42cd-a893-a462a1cb5a66",
   "metadata": {
    "jp-MarkdownHeadingCollapsed": true,
    "tags": []
   },
   "outputs": [],
   "source": []
  }
 ],
 "metadata": {
  "kernelspec": {
   "display_name": "Python 3",
   "language": "python",
   "name": "python3"
  },
  "language_info": {
   "codemirror_mode": {
    "name": "ipython",
    "version": 3
   },
   "file_extension": ".py",
   "mimetype": "text/x-python",
   "name": "python",
   "nbconvert_exporter": "python",
   "pygments_lexer": "ipython3",
   "version": "3.8.12"
  }
 },
 "nbformat": 4,
 "nbformat_minor": 5
}
