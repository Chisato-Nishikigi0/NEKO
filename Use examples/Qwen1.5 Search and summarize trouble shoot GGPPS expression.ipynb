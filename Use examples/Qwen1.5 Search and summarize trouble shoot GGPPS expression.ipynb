{
 "cells": [
  {
   "cell_type": "code",
   "execution_count": 1,
   "id": "ba75b0fc-5c29-4c8b-b50a-8d26702e7dfd",
   "metadata": {},
   "outputs": [
    {
     "data": {
      "application/vnd.jupyter.widget-view+json": {
       "model_id": "3940cbfb1bd24e319cc373dd304a4a49",
       "version_major": 2,
       "version_minor": 0
      },
      "text/plain": [
       "Loading checkpoint shards:   0%|          | 0/38 [00:00<?, ?it/s]"
      ]
     },
     "metadata": {},
     "output_type": "display_data"
    },
    {
     "name": "stderr",
     "output_type": "stream",
     "text": [
      "Special tokens have been added in the vocabulary, make sure the associated word embeddings are fine-tuned or trained.\n"
     ]
    }
   ],
   "source": [
    "import os\n",
    "os.environ[\"CUDA_VISIBLE_DEVICES\"] = \"1,2,3,4,5,6,7\"\n",
    "\n",
    "from transformers import AutoModelForCausalLM, AutoTokenizer\n",
    "device = \"cuda\" # the device to load the model onto\n",
    "\n",
    "model = AutoModelForCausalLM.from_pretrained(\"/storage1/fs1/yinjie.tang/Active/Shawn_Xiao/Qwen1.5-72B-Chat\",\n",
    "    device_map=\"auto\", torch_dtype=\"auto\"\n",
    ")\n",
    "tokenizer = AutoTokenizer.from_pretrained(\"/storage1/fs1/yinjie.tang/Active/Shawn_Xiao/Qwen1.5-72B-Chat\")\n",
    "\n",
    "#Qwen1.5-72B-Chat-GPTQ-Int4\n",
    "#Qwen1.5-14B-Chat"
   ]
  },
  {
   "cell_type": "code",
   "execution_count": 2,
   "id": "4f3583d1-435c-42cc-b90a-8cf064dc3ea6",
   "metadata": {
    "scrolled": true,
    "tags": []
   },
   "outputs": [
    {
     "name": "stdout",
     "output_type": "stream",
     "text": [
      "HpGGPPS, mutant fungi, taxa-4(5, cloned, functional role, DXS expression, IdsA, stationary phase, increased cell apoptosis, SdGGPPS1, overexpression of GGPPS, Rac1 most activity, GGPPS paralogues, Jatropha, FPPS, GGPPS, terpenoid pheromone precursors, bisphosphonates, GGPPS transcription, cell viability, tanshinone biosynthesis pathway, simvastatin effects, P1A peptide sequences, Plasmodium-specific, (quantitative real time-PCR, gene expression analysis, heterologous complementation, carotenoid accumulation, baccatin III accumulation, genome, geranylgeranyl pyrophosphate synthase gene, idiopathic pulmonary fibrosis, AACT1 expression, overexpression, matrix mineralization, proteins prenylation, HPT1, expression, isoprenoids, prevention of metabolic adverse effects of olanzapine, adipogenesis, CAS, photosynthesis-related metabolites, cigarette smoke induced pulmonary disease, carotenoid biosynthetic pathway, Microbial heterologous expression, metalloenzyme, polycistronic expression construct, archaebacteria, enzyme most activity, Antirrhinum majus, vitamin C content increase, expression of enzymes of the MEP-dependent pathway, PABA, SC-PT family, mineralization, MAPK signaling, flavonoid content increase, primary bioactive compounds, FPP, GGT-1 upregulation, Novel Therapeutic Strategy for Renal Angiomyolipomas, single GGPPS isoform, tanshinone biosynthesis and accumulation, Overexpression of NUDX23, conversion of GGPP, D188Y, GPPS.SSU, paclitaxel accumulation, FPP and GGPP balance, GGPPSs, terpene synthesis, Rap1a, biosynthesis, ROS, PnGGPPS expression, (<i>ZISO</i>, GGGPP synthase, female fertility, expression level, paclitaxel biosynthetic pathways genes expression, SmKSL, GGPPS paralogs, C<sub>10</sub>, abietane diterpene content, gene, C40 metabolites, inflammation response of Sertoli cells, carotenoid biosynthesis pathway, IPP, Taxol-producing plant, genes, aethiopinone synthesis, cytoarchitecture, Monoterpene compound accumulation, S. chilense, PTS family, A. thaliana, GSIS, feeding, primary metabolites, GbDXS gene expression, inhibiting Erk1/2 activity, GGPPS11, MDR1 expression, RhoA/Rock kinase signaling, CcTIDS2, HMGR upregulation, metabolic pathway, high expression level, astaxanthin increase, Lymphangioleiomyomatosis, antioxidant capacity, loss of Egr-1 function, geranylgeranyl pyrophosphate, carotenoid content, maize enzymes, (GGPPS gene overexpression, GGPPS1, carotenoid overexpression, salicylic acid, HSCs activation, increased cell injury, inflammatory diseases, regulation, other important genes, terpenoid pathway, GPP, invasion, expressions of TwGGPPS4, IPI, GGPPS, PSY1, NCED, HPT1, genes, GbGGPPS gene expression, Gene expression, tocopherols, TFs, neurofibrillary tangle density, gene mutation, DXR, MCT, CMK, MDS, HDS, HDR, IPPI, GGPPS, taxoid biosynthesis, Carotenoid production, GGPPS enzymes, taxadiene production, paclitaxel production, Agrobacterium-mediated integration, osteoclast function, overexpression of NnGGPPS1, ALT levels, GGPPS gene regulation, LtuGGPPS2 gene expression, plants, TXS, expressions of TwGGPPS1, BAPT, GGPP formation, chlorophylls, phylloquinone, enhanced tocopherol level, insulin receptor phosphorylation, Osteoblasts, glycolysis, fibrosis, major isozyme, Erk1/2/MAPK pathway, ROS generation, GGPPS enzyme activity, parasitic infections, PSY, ginkgolide accumulation, (<i>GGPPS</i>, apoptosis, ERK1/2 activity, tanshinone biosynthesis, CHLH gene expression downregulation, GbERF4, activity, fiber accumulation, biosynthesis of tocopherols, poor prognosis of lung adenocarcinoma, GGol, defence mechanism, synthesis of GGPP, GGPP synthesis, DXR, GGPPS, CPPS, enzymes, WsGGPPS expression, CfGGPPS, CrtE, enzyme's product, healthy volunteers, LzGGPPS, Geranylgeranyl diphosphate synthase expression/most activity, key enzyme genes expression levels, N-cadherin expression, PPARγ2, hormone, WsAP2, GGPPS-transformed SSM001 fungus, (<i>DXS</i>, DXS, CcTIDS8, increased Rubisco level, terpenoid pool size, FNT upregulation, insulin sensitivity, chloroplast metabolism, key enzyme, GGPPS, CrGGPPS2 overexpression, ERK 1/2 phosphorylation, Geranylgeranyl diphosphate synthase 1, failing human hearts, AST levels, protein expression, DXS gene, increased chloroplast number, balance of farnesylation/geranylgeranylation, AgGGPPS, lymph node metastasis, endoplasmic reticulum), prognosis of lung adenocarcinoma patients, Rab17A geranylgeranylation, cardiomyocyte size, baccatin production, Insulin resistance, decreased δ-cadinene, constitutive expression, plant metabolites, Clarkia breweri, cyclin D1 expression, HMGS expression, Vitreoscilla hemoglobin, rate-limiting step, total amount of essential oils, C. avellana leaves, total carotenoids increase, inhibition of hairy root growth, taxol accumulation, constant dark, Solanesol biosynthesis, human FPPS genes, Branch genes, spontaneous cardiac hypertrophy, isoprenoid production, osteocalcin expression, migration, GGPPS promoter, VILI mice, GGPPS upregulation, GGPP administration, NAFLD stage, idsA, carotenoid production limitation, embryo hatching rate, Chinese white pine beetle, CYB5R3 prenylation, FPPS upregulation, cembratriene-ol producer, postnatal heart growth, lipid peroxidation, <i>PSY</i>, cardiac cytoarchitecture regulation, terpenoid content, Geranylgeranyl biphosphate synthase, inhibitor complexes, adipocytes, product, GGPPS gene, increased ROS generation, casbenes, CrGGPPS2, chlorophyll content increase, HS3 cells, clinicopathological characteristics, larval survival, LPS2 expression, GGPPS characterization, SdGGPPS1 transcriptional level, osteoblast differentiation, Nafpps, first-phase insulin secretion, Tripterygium wilfordii suspension cells, fruit quality, K-Ras prenylation, patients' fertility, Abeta, insulin resistance, lung adenocarcinoma progression, GGPS1, Membrane association, cell membrane integrity, cell proliferation, DBTNBT, drug target, aethiopinone accumulation, secondary metabolism, key enzyme genes expression, protein geranylgeranylation, SeCrtE, protein modification, plastoquinones, terpenoid biosynthesis pathway genes, gene co-expression network, metabolic syndrome, expression, RhoA/Rho kinase signaling pathway, investigation of function, granulosa cell proliferation, induction of expression, DXS, GGPPS re-expression, Escherichia coli isopentenyl pyrophosphate isomerase, higher expression, rCfGGPPS, cardiac-specific knockout, primary-secondary follicle transition, multi-copy plasmid, total soluble sugar content increase, Gossypium hirsutum, CPPS gene, abietane diterpenoids increase, DHA increase, GPPS, PAL, SmbZIP1, molecular cloning, (GGPPS gene co-expression, ggpps gene, photosynthesis efficiency, DXR, HMGR, GGPPS, tanshinone biosynthesis pathway, abscisic acid, TmGGPPS, Carotenoid biosynthesis, induction of expression, CAS, AIP, GGPPS-TS fusion enzyme expression, increased bicyclogermacrene, tomato, Geranylgeranyl diphosphate synthase, NASH, cyclin E expression, ERK 1/2 activation, enzymes, methyl jasmonate treatment, alkaline phosphatase expression, differential expression, Pueraria, carotenoid biosynthesis, Erk/MAPK signalling, abnormal expression, MIA biosynthesis, ALA, Jatropha curcas, CcTIDS10, carotenoid biosynthesis key genes, Long-term HFD, CrGGPPS2 silencing, carotenoid level, DXR gene, pathway for targeted metabolic engineering, tumour size, PPARγ, TAT gene expression, transverse aortic constriction, extracellular localization, DXS1 expression, GGPP synthase, health, liver damage, (Downstream pathway genes, higher higher expression levelss, increased Rac1 most activity, Paclitaxel, CS, Arabidopsis thaliana, POR gene expression downregulation, HMGR gene, common diterpenoid precursor, inflammatory response, solid malignancies, treating human diseases, BAPT line, tocopherol biosynthetic enzyme, TLR2/4-AP-1 signaling pathway, skeletal muscle insulin resistance, gene expression in Escherichia coli, Helicoverpa armigera GGPPS, taxadiene, biological role, carotenoids, inactive monomer, GGPP synthases, eubacteria, DBAT, taxol biosynthesis-related genes, expression patterns, GGPPS expression decrease, GGPPS expression knockdown, GGPP product/inhibitor-binding sites, reduced cell viability, organic acid content increase, cell apoptosis, GGPPS proteins, EGR-1 overexpression, ARDS, (CPPS gene overexpression, CMK, HDS, HDR, AACT, MVK, PMK, GGPPS, TPS, bee pollinator, induction of IDSs expression, TAT gene, Renal Epithelioid Angiomyolipomas, Rac1/Cdc42 prenylation, significant differences, soluble protein content increase, Taxadiene synthase, High glucose, land plants, preventing HR-induced injury, up-regulated expression, SQS expression unchanged, cardiac hypertrophy, LT cells, TNM stage, TTL synthesis, RT-PCR, Therapeutic Target, enzyme, PSY1 gene expression, osteoblastic gene expression, isoprenoid biosynthesis, CARB, Ddx4-Cre, Paraconiothyrium SSM001 genome, of interest in schistosomiasis therapy, ventricular chamber maturation, GPP synthase, Geranyl diphosphate, carotenoid biosynthesis-related Gene expression, Carotenoids, total fatty acids increase, ggpPS mRNA expression, quantitative real-time PCR, petal, crtE, mevalonate pathway genes expression, specialized plant metabolites, CrPGGT-I_β, human GGPPS, <i>PDS</i>, ARDS patients, EGR-1 transcription inhibition, GGPPS gene expression, osteoclast resorption most activity, diabetes, prostate cancer candidate gene, LR mechanism, secondary metabolite production, taxane biosynthesis, geranylgeranyl diphosphate synthase, location, Egr-1 overexpression, Tobacco solanesol biosynthesis, diterpene compounds, Taxol production, diterpenes, diterpene, expression systems, DR1395, andrographolide, embryonic vascular development, MeJA, bone response, CgGGPPS expression, differentiation, GGPP supply, adiponectin, enhancement in D. radiodurans, IRS-1 activity, Ggpps deletion, dynamic expression, FPP accumulation, hyperinsulinism, TgFPPS, taxenes, liver injury, PSY protein levels, ispB, geranyl geranyl pyrophosphate synthase, Elevated promoter methylation, PDS gene expression, EMT markers, VSMC proliferation, glucose-stimulated insulin secretion, metabolic perturbation, porcine teschovirus-1 1A (P1A) peptide, taxa-4,11-diene, acute lung injury, Taxol, At1g49530, decreased DXS gene expression, increased p11 expression, Egr-1 accumulation, Ras prenylation, adenoviral vectors, insulin-induced Erk signaling, Olanzapine, ERK 1/2 mitogen activated-protein kinase, SyCrtE, SmCPS, altered GGPPS gene expression, oocyte-granulosa cell communication, CrGGPPS2 expression, cardiac dysfunction, Triptolide, IRRPs, β cell dysfunction, HMGS1 expression, GGPPS1 expression, geranylgeranyl diphosphate, A. majus GPPS.LSU, induction of expression, HMGR, chlorophyll biosynthesis key genes, NAFLD-associated HCC recurrence, Mevalonate Pathway, elimination of metabolic adverse effects, blue light, free fifth amino acids content increase, fruit yield, cell-cell junctions, GGPPS expression, genes encoding geranylfarnesyl diphosphate synthase (GFPPS, induction of expression, DXR, lung injury, ggpPS gene, type 1 diabetes mellitus, GGPP, pesticide target, TKS root transcriptome, Ggps1 cKO mice, heterologous expression, GGPPS2 expression, pBgGGTS, 4-AZ, <i>crtE</i> gene, E-cadherin expression, CpGPPS.SSU1, p-Tau, protein prenylation, gb-miR160, HMGCR, simultaneous expression of several genes, ggpps expression enhancement, Ggps1, cell injury, genetic transient transformation, males, hematologic malignancies, JH III, phytoene, Taxus canadensis, pBgGGgTS, free fatty acids, <i>ZDS</i>, digeranyl bisphosphonate, GTs, jasmonate, RANKL expression, H9c2 cells, EGR-1, CRISPR, Ag NPs, growth improvement, heterodimeric GPPS, geranylgeranyl pyrophosphate synthase, HT cells, IDSs expression, insulin compensatory period, decreased bicyclogermacrene, Disease Progression, isoprenoid pathway, ligand, GTPases, fungi, prenylation of small GTPases, precursors, lipogenic gene expression, phylloquinones, model plant, GGPPS therapeutic target, F-actin reorganization, carotenoids content increase, 1A viral peptides, (compost, RNAi, GGPPs gene expression, constant light, reduction of IRRPs expression, (compound fertilizer, LtuGGPPS2 overexpression, methyl jasmonate acid, Expression, plastid isoprenoid biosynthesis, gibberellins, TXS expression, inflammation, adult death, DGBP, RAS/MAPK pathway, Geranylgeranyl pyrophosphate synthase, downstream genes, non-expression, Casbene Synthase, cephalomannine accumulation, chloroplasts, paclitaxel, ginkgolide, lzGGPPS activity, metaflammation, molecular expression, Archaeoglobus GPS, Egr-1, LCYB gene expression, increased chlorophyll content, survival rate, RNA gel blot analysis, Spodoptera frugiperda, T13OH, Mentha piperita, sesquiterpene emission, mevalonate pathway, α-tocopherol, FPPS, terpenoid backbone biosynthesis, stress resistance, altered FPPS gene expression, DMAPP, CcTIDS1, P-HMGR expression unchanged, semilight photoperiod, taxol biosynthesis, age of onset in AD, Overexpression, jasmonate-related TFs, myocardial ischemia/reperfusion injury, Entity, methyl jasmonate, hepatic lipogenesis, TS gene expression, expression pattern, cardiac decompensation, methyl jasmonate elicitation, osterix expression, total phenol content increase, substrate binding, steroid precursor, prenyltransferase, Erk1/2, TmMYBs39, Escherichia coli, ROS scavenging ability, anti-IR, subfunctionalization, GGPPS protein levels, ventilator-induced lung injury, LR, HMGR expression, dual elicitation, sexes, expression profile, carotenoid levels, produced, mRNA expression expression, dnEGR-1, positive effect on copaene, abietane-type diterpenoid natural product, radical scavenging most activity, therapeutic target, CuO NPs, plant, Helicoverpa armigera, MEP pathway key genes, vimentin expression, DREB overexpression, Taxol-rate limiting enzymes, alveolar macrophages, (blue light, Erk1/2 activity, DF10 colonization, DXR expression, TTL content, PCNA expression, petals, metastasis regulation, minodronate, gene expression, diterpenoid biosynthesis, rubber biosynthesis, (aspartate-rich motifs, chlorophylls side chain, ALI/ARDS, yeast, AACT expression, expression analysis, drug resistance, geranylgeranyl monophosphate (GGP, polyterpenes, zoledronate, carotenoid production\n"
     ]
    }
   ],
   "source": [
    "from pyvis.network import Network\n",
    "import pandas as pd\n",
    "import re\n",
    "import networkx as nx\n",
    "\n",
    "# Load the Excel file\n",
    "filepath = 'modified_updated(Qwen1.5 72b)_GGPPS_causal.xlsx'\n",
    "df = pd.read_excel(filepath, engine='openpyxl')\n",
    "\n",
    "# Initialize NetworkX Graph\n",
    "G = nx.Graph()\n",
    "\n",
    "# Nodes to exclude\n",
    "# words_to_exclude = ['Synechocystis', 'Cyanobacteria', 'cyanobacteria']\n",
    "words_to_exclude = []\n",
    "\n",
    "# Regular expression to match the pattern (entity A, entity B)\n",
    "pattern = r'\\(([^,]+), ([^\\)]+)\\)'\n",
    "\n",
    "# Iterate over the DataFrame rows to extract entity pairs and their sources\n",
    "for _, row in df.iterrows():\n",
    "    # value = row['Response to New Question']\n",
    "    value = row['Answer to Question 2']\n",
    "    source = row['Title']  # Extract source for each pair\n",
    "\n",
    "    matches = re.findall(pattern, value)\n",
    "    for entity_a, entity_b in matches:\n",
    "        # Check if any word to exclude is part of the entity names\n",
    "        if not any(word in entity_a for word in words_to_exclude) and not any(word in entity_b for word in words_to_exclude):\n",
    "            G.add_node(entity_a, label=entity_a)\n",
    "            G.add_node(entity_b, label=entity_b)\n",
    "            G.add_edge(entity_a, entity_b, title=source)\n",
    "\n",
    "def search_network(graph, keyword, depth=2):\n",
    "    nodes_of_interest = {n for n, attr in graph.nodes(data=True) if keyword.lower() in attr['label'].lower()}\n",
    "    for _ in range(depth):\n",
    "        for node in list(nodes_of_interest):\n",
    "            nodes_of_interest.update(set(nx.neighbors(graph, node)))\n",
    "    return graph.subgraph(nodes_of_interest)\n",
    "\n",
    "# Perform search\n",
    "keyword = \"expression\"  # Replace with your keyword\n",
    "filtered_graph = search_network(G, keyword)\n",
    "\n",
    "# Extract node names from the filtered graph\n",
    "node_names = list(filtered_graph.nodes())\n",
    "\n",
    "# Prepare a simple text summary of node names\n",
    "node_names_text = \", \".join(node_names)\n",
    "\n",
    "# Now, `node_names_text` contains a clean, comma-separated list of node names, ready for summarization\n",
    "print(node_names_text)\n",
    "\n",
    "# Initialize Pyvis network with the filtered graph\n",
    "net = Network(height=\"2160px\", width=\"100%\", bgcolor=\"#222222\", font_color=\"white\")\n",
    "net.from_nx(filtered_graph)\n",
    "\n",
    "# Continue with setting options and saving the network as before\n",
    "net.set_options(\"\"\"\n",
    "{\n",
    "  \"physics\": {\n",
    "    \"barnesHut\": {\n",
    "      \"gravitationalConstant\": -80000,\n",
    "      \"centralGravity\": 0.5,\n",
    "      \"springLength\": 75,\n",
    "      \"springConstant\": 0.05,\n",
    "      \"damping\": 0.09,\n",
    "      \"avoidOverlap\": 0.5\n",
    "    },\n",
    "    \"maxVelocity\": 100,\n",
    "    \"minVelocity\": 0.1,\n",
    "    \"solver\": \"barnesHut\",\n",
    "    \"timestep\": 0.3,\n",
    "    \"stabilization\": {\n",
    "        \"enabled\": true,\n",
    "        \"iterations\": 500,\n",
    "        \"updateInterval\": 10,\n",
    "        \"onlyDynamicEdges\": false,\n",
    "        \"fit\": true\n",
    "    }\n",
    "  },\n",
    "  \"nodes\": {\n",
    "    \"font\": {\n",
    "      \"size\": 30,\n",
    "      \"color\": \"white\"\n",
    "    }\n",
    "  }\n",
    "}\n",
    "\"\"\")\n",
    "\n",
    "\n",
    "\n",
    "\n",
    "\n",
    "# Save and show the network\n",
    "net.write_html('filterd_entity_network.html')"
   ]
  },
  {
   "cell_type": "code",
   "execution_count": 3,
   "id": "26cd6037-212c-4536-a5ae-99332db5c558",
   "metadata": {},
   "outputs": [
    {
     "data": {
      "text/markdown": [
       "Summary:\n",
       "\n",
       "The provided terms relate to various aspects of a research project focused on enhancing the production of b-carotene in Yarrowia lipolytica by manipulating the expression of geranylgeranyl pyrophosphate synthase (GGPPS). GGPPS is a key enzyme in the biosynthesis of isoprenoids, which includes carotenoids like b-carotene. Several strategies are discussed, such as overexpression of GGPPS, manipulation of other enzymes in the metabolic pathway, and the use of different organisms or mutants.\n",
       "\n",
       "Some highlights from the information include:\n",
       "\n",
       "1. The study involves comparing wild-type and mutant fungi, as well as GGPPS paralogues from Jatropha and other sources, for optimal GGPPS functionality.\n",
       "2. Overexpression of GGPPS has been shown to impact cell viability, stationary phase, and potentially increase apoptosis in some cases.\n",
       "3. The balance between FPP and GGPP is crucial for terpenoid biosynthesis, including the production of carotenoids and paclitaxel, an important anticancer drug.\n",
       "4. GGPPS expression levels are interconnected with the expression of other genes in the mevalonate pathway, such as DXS and HMGR, and enzymes involved in terpenoid pheromone precursors.\n",
       "5. Different environmental factors, chemical treatments, and signaling pathways (e.g., MAPK, RhoA/Rock, and ERK1/2) can modulate GGPPS expression and activity.\n",
       "6. Heterologous expression of GGPPS in Y. lipolytica aims to enhance carotenoid accumulation, similar to approaches used in other organisms like E. coli and plants.\n",
       "7. The regulation of GGPPS expression can affect various biological processes, including cell proliferation, differentiation, stress resistance, and hormone signaling.\n",
       "8. GGPPS expression is also linked to the biosynthesis of tocopherols, flavonoids, and other bioactive compounds, as well as plant defense mechanisms against pathogens and environmental stresses.\n",
       "9. GGPPS activity can be influenced by inhibitors, such as bisphosphonates, which can have implications in metabolic disorders, osteoporosis, and cancer treatments.\n",
       "10. The study explores the potential therapeutic applications of GGPPS manipulation, including renal angiomyolipomas, inflammation, and neurodegenerative diseases.\n",
       "\n",
       "Suggestions:\n",
       "\n",
       "1. Perform gene expression analysis using techniques like qRT-PCR to quantify GGPPS expression levels under different conditions.\n",
       "2. Investigate the effect of overexpression of GGPPS paralogues to determine if they have distinct functional roles or if they compensate for each other's activity.\n",
       "3. Study the interaction between GGPPS and upstream/downstream enzymes in the isoprenoid pathway to optimize the biosynthesis of b-carotene.\n",
       "4. Evaluate the impact of environmental cues and signaling molecules on GGPPS expression and activity to identify potential regulators.\n",
       "5. Explore the use of inducible promoters to control GGPPS expression dynamically, allowing for fine-tuning of carotenoid production.\n",
       "6. Consider the effect of GGPPS overexpression on cellular homeostasis, cell viability, and potential toxicities to ensure sustainable production.\n",
       "7. Investigate the potential of combining GGPPS overexpression with metabolic engineering of other pathways to further enhance b-carotene synthesis.\n",
       "8. Conduct in vivo studies to assess the effectiveness of GGPPS manipulation in increasing b-carotene levels in the context of whole organisms or tissues.\n",
       "9. Collaborate with computational biology and bioinformatics experts to analyze gene co-expression networks and predict potential regulatory elements of GGPPS.\n",
       "10. Monitor the stability and long-term effects of GGPPS overexpression, as well as potential off-target effects on other cellular processes."
      ],
      "text/plain": [
       "<IPython.core.display.Markdown object>"
      ]
     },
     "metadata": {},
     "output_type": "display_data"
    }
   ],
   "source": [
    "from IPython.display import Markdown\n",
    "\n",
    "def trim_text(text, max_length):\n",
    "    if len(text) > max_length:\n",
    "        return text[:max_length].rsplit(' ', 1)[0] + \"...\"  # Trim to max_length, avoid cutting words in half\n",
    "    else:\n",
    "        return text\n",
    "    \n",
    "# Apply the trimming function to node_names_text\n",
    "cut_off_chunk_size = 30000\n",
    "trimmed_node_names_text = trim_text(node_names_text, cut_off_chunk_size)\n",
    "\n",
    "# Construct the prompt with the potentially trimmed node_names_text\n",
    "# prompt = \"These are the terms related to \" + filepath + keyword + \", categorize them and write a summary report.\" + trimmed_node_names_text\n",
    "\n",
    "prompt = \"These are the terms related to \" + filepath + keyword + \", I am producing b-carotene in Y. lipolytica, but I have trouble expressing GGPPS, given these information, write a summary report and give me some suggestions\" + node_names_text\n",
    "\n",
    "messages = [\n",
    "    {\"role\": \"system\", \"content\": \"You are a helpful assistant.\"},\n",
    "    {\"role\": \"user\", \"content\": prompt}\n",
    "]\n",
    "text = tokenizer.apply_chat_template(\n",
    "    messages,\n",
    "    tokenize=False,\n",
    "    add_generation_prompt=True\n",
    ")\n",
    "model_inputs = tokenizer([text], return_tensors=\"pt\").to(device)\n",
    "\n",
    "generated_ids = model.generate(\n",
    "    model_inputs.input_ids,\n",
    "    max_new_tokens=10000\n",
    ")\n",
    "generated_ids = [\n",
    "    output_ids[len(input_ids):] for input_ids, output_ids in zip(model_inputs.input_ids, generated_ids)\n",
    "]\n",
    "\n",
    "response1 = tokenizer.batch_decode(generated_ids, skip_special_tokens=True)[0]\n",
    "display(Markdown(response1))"
   ]
  },
  {
   "cell_type": "code",
   "execution_count": null,
   "id": "90506a53-7094-42cd-a893-a462a1cb5a66",
   "metadata": {
    "jp-MarkdownHeadingCollapsed": true,
    "tags": []
   },
   "outputs": [],
   "source": []
  }
 ],
 "metadata": {
  "kernelspec": {
   "display_name": "Python 3",
   "language": "python",
   "name": "python3"
  },
  "language_info": {
   "codemirror_mode": {
    "name": "ipython",
    "version": 3
   },
   "file_extension": ".py",
   "mimetype": "text/x-python",
   "name": "python",
   "nbconvert_exporter": "python",
   "pygments_lexer": "ipython3",
   "version": "3.8.12"
  }
 },
 "nbformat": 4,
 "nbformat_minor": 5
}
