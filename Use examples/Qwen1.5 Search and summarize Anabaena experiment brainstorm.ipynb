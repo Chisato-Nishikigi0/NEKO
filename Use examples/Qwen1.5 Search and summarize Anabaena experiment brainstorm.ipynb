{
 "cells": [
  {
   "cell_type": "code",
   "execution_count": 1,
   "id": "ba75b0fc-5c29-4c8b-b50a-8d26702e7dfd",
   "metadata": {},
   "outputs": [
    {
     "data": {
      "application/vnd.jupyter.widget-view+json": {
       "model_id": "31152c1272ac40e39fa7f3c380045bc5",
       "version_major": 2,
       "version_minor": 0
      },
      "text/plain": [
       "Loading checkpoint shards:   0%|          | 0/38 [00:00<?, ?it/s]"
      ]
     },
     "metadata": {},
     "output_type": "display_data"
    },
    {
     "name": "stderr",
     "output_type": "stream",
     "text": [
      "Special tokens have been added in the vocabulary, make sure the associated word embeddings are fine-tuned or trained.\n"
     ]
    }
   ],
   "source": [
    "import os\n",
    "os.environ[\"CUDA_VISIBLE_DEVICES\"] = \"0,1,2,3\"\n",
    "\n",
    "from transformers import AutoModelForCausalLM, AutoTokenizer\n",
    "device = \"cuda\" # the device to load the model onto\n",
    "\n",
    "model = AutoModelForCausalLM.from_pretrained(\"/storage1/fs1/yinjie.tang/Active/Shawn_Xiao/Qwen1.5-72B-Chat\",\n",
    "    device_map=\"auto\", torch_dtype=\"auto\"\n",
    ")\n",
    "tokenizer = AutoTokenizer.from_pretrained(\"/storage1/fs1/yinjie.tang/Active/Shawn_Xiao/Qwen1.5-72B-Chat\")\n",
    "\n",
    "#Qwen1.5-72B-Chat-GPTQ-Int4\n",
    "#Qwen1.5-14B-Chat"
   ]
  },
  {
   "cell_type": "code",
   "execution_count": 2,
   "id": "4f3583d1-435c-42cc-b90a-8cf064dc3ea6",
   "metadata": {
    "scrolled": true,
    "tags": []
   },
   "outputs": [
    {
     "name": "stdout",
     "output_type": "stream",
     "text": [
      "photoheterotrophic cultures, Proportion of heterocysts, nitrogen-fixing cell differentiation, hydrogen gas, nitrogen fixation inhibition, Entity 'nitrogenase activity', nitrogen deficiency signal, Mo, Entity 'stimulatory effect of glyoxylate on the nitrogenase', total nitrogen, FurC, underlying soil chlorophyll, Reduced ferredoxin, Entity 'A. (Anabaena)', hydrogen production, independent of nitrogen metabolism, Entity Anabaena variabilis, heterocyst differentiation, Entity 'PN2', Entity 'Nitrogen-starved Conditions', Heterocyst formation, nrrA disruption, PatS, organisms of the shards, Nitrogen isotope fractionation, +) when using thylakoids from vegetative cells.\n",
      "\n",
      "Formatted as combinations:\n",
      "\n",
      "((recombinant plant-type ferredoxins from Anabaena sp. PCC 7120, Cd, metal deposition, 0.2 M sucrose, nifH sequences, Ferredoxin III, nitrogen availability, Environmental conditions, (soil pH 9.23, L. boryana, Atmospheric nitrogen, growth medium, Anabaena sp. UTEX 2576, available fixed nitrogen, N:P ratio, Entity 'nitrogenase activity (C2H4 reduction, ATP, GA, nitrogenase mutant, inactivation of nitrogenase, Entity 'dinitrogen assimilation', assembly, poorly, Anabaena sp. strain L-32, heterocyst morphogenesis, Oxygen, nitrogen fixation)), (Anabaena 33027, Δcse, nitrogen acquisition, heterocystous cyanobacteria, nitrogenase polypeptides, Ca(2+), Mutants M22, combined-nitrogen starvation, H2 consumption, Nitrogen source, nitrogen-regulation, Anabaena sp. strain PCC 7220, (nitrogen-fixing cultures of A. sphaerica, nitrogen control, Trichormus azollae, PSI, nitrogen status, Nitrogen fixation, in vivo nitrogenase activity, nif2 gene cluster, Exponential growth, Entity 'combined nitrogen', nitrogen requirement, nif proteins, (Anabaena, nitrogen stress-induced RNA 2, Klebsiella oxytoca, Synechocystis, non-nitrogen fixing phytoplankton, Heterocyst development, devBCA operon transcription, respiration, nitrogenase activity, (phycobilisomes, inorganic source of nitrogen, nif2 genes, Gvp, N(2) environment, pN<sub>2</sub>, Anaerobic conditions, (invB, local exhaustion, nif operon, Ammonia assimilation, TN, acetylene reduction assay, hupSL transcript, A. torulosa, micro-oxic environment, Plant and soil nitrogen, V, plastids, Synechocystis sp. PCC 6803, Rhodobacter capsulatus nitrogenase, Environmental factors, nitrogenase (nif, carotenogenesis, immobilized heterocysts, energy metabolism, nitrogen-fixing heterocysts, Anabaena sp. strain PCC 7120, NH3, Global nitrogen regulator, (Vegetative cells, nitrogen stepdown))\n",
      "((ntcA mutant), susA, Entity 'Fixed carbon', Entity 'nitrogen metabolic proteins', Acclimated cyanobacterial cells, nitrogen-deplete conditions, cellular processes, nitrogenase enzyme, Entity 'nitrate repression', 'induction by nitrogen deprivation', Inhibition of nitrogen-fixation, nitrogen-fixing capabilities, N2, (nitrogen deprivation, anoxic conditions, β-aspartyl-arginine, NsiR2, nifH genes, nitrogenase protection, total sugar concentration, nif K gene, NH4Cl-grown cultures, growth without a combined nitrogen source, Cobalt ions, Nitrogenase protection, Methane oxidation, ferredoxin from Anabaena sp. PCC 7119, no nitrogenase activity, Heterocysts, Arginine, vnf genes, negative effect on crop yield, flavodoxin amounts, Nitrogen starvation, wild-type A. variabilis, (label-free quantitative proteomic strategy, desiccation inducible genes, Het-Fix-, Nostoc linckia, nitrogen-regulated gene, organic nitrogen provision, upregulated by, cnfR2 mutant, PetF and fdxH) are involved in electron transfer to nitrogenase.\n",
      "2. (ferredoxin from Anabaena sp. PCC 7119, Kinetin, ATP-generating system, nitrogenase reductase, fixed-nitrogen dynamics, exogenous proline, An+ahpC, Immunofluorescence analysis, nitrogenase-based photobiological H(2, Anabaena sp., nitrogen-fixing machinery, nitrogen-fixing activity of the cyanobiont, ntcA mutant, nitrogen levels, nitrogen input, relief of inhibitory effect of nitrate or ammonia on nitrogenase activity, Entity 'vegetative cells', nitrogen fixation metabolism, Nitrogen-fixing cells, (V, Heterocyst, recombinant plant-type ferredoxins from Anabaena sp. PCC 7120, phosphoenolPyruvate, stimulation, these strains, Plectonema petF gene transcription, unicellular or filamentous, nonheterocystous cyanobacteria, ammonium chloride, Azotobacter vinelandii dinitrogenase, Trichodesmium aggregates, N2-fixing cyanobacteria, [FdxH], Combined-nitrogen compounds, arginine environment (Ar), Entity 'nitrogen and CO2 fixation capacities', Gloeocapsa minima, Glutamine, nitrogen sources, nitrogen-rich cyanophycin grana proteins, Nitrogen-fixing, Entity 'Nitrogen fixation', growth on nitrogen-free medium, unicellular, non-nitrogen-fixing cyanobacterium, salt, Anabaena nif genes, RNA, CSE, nonheterocystous nitrogen-fixing cyanobacterium, Anabaena spiroides, N2-grown culture, Nitrogen status, H₂, light penetration, Chroococcidiopsis, H<sub>2</sub>-sensitive nitrogen fixation, products of nitrogen fixation, Nitrogenase activity of Anabaena doliolum, Hydrogenase, DIN, filamentous nitrogen-fixing cyanobacteria, molybdenum nitrogenase 2, M. sporium, ((sugars, 1% CO2 in 99% Ar, all5191 mutant, dinitrogenase, Heterocyst cells, two groESL operons, reduction, Reducing power, Nitrogen metabolism-related genes, nitrogen-replete media, genes involved in nitrogen assimilation, Anabaena variabilis, Entity 'heterocysts', Entity 'O2', CnfR2/CnfR2 family, Nitrogen carrier, electron flow towards nitrogenase, importers, Clamydomonas sp., nitrogen starvation, yield of rice paddy, Carbofuran, coxBACI, cyanobacterial production processes, nitrogen compounds, heterocyst spacing distribution, Leptolyngbya, nitrogen-fixing cell, nitrogen-fixing cyanobacteria dominance, coordination, growth rate, combined-nitrogen source)), Acremonium sp., rearrangements, Entity 'sensitivity of nitrogenase to oxygen', nitrogen fixation, iron limitation, nifH gene, Fixed nitrogen, lack of combined nitrogen, Rhizobium-legume symbiosis, nitrogen-fixing activity, Entity 'nitrate', nitrogen sufficiency, process, fdxH1, (hetR transformants, Entity 'nitrogen source', nitrogen remobilization, Hydrogenases, (Anabaena sp. PCC 7220, inorganic fixed nitrogen, carbon to nitrogen ratio, Entity 'dinitrogen fixation', Nitrogenase thermal inactivation, nTiO(2, hgdC, asr1131 expression, Cyanobacterial nitrogen fixing organelle, devH mutant, Anabaena flos-aquae CCAP 1203/13f, Mo-dependent nitrogenase, Entity 'saxitoxin-producing strain', diazotrophs, growing rapidly, nitrogen-fixation, (FdxH, molybdenum-iron protein, enzymes involved in nitrogen fixation, Anabaena spp., medium without combined nitrogen))\n",
      "((pknH gene, wind, Transcriptional/translational proteins, N2-derived nitrogen, Heterocystous Anabaena sp., Entity 'Light', differentiating and mature heterocysts, nitrogen-fixing algae, primary production, Anabaena sp. PCC 7220 filaments, β subunit of nitrogenase, vnfDGK genes, nitrogen starvation conditions, Azolla Growth, (fdxH gene, Vegetative cells, development, Low-potential reductant, OpcA, IAA, Combined nitrogen, Entity 'Nitrogen starvation', Nitrogen-limiting conditions, sigB, (nitrogenase, Het(-, Westiellopsis prolifica, nitrogen-fixing filamentous cyanobacterium, gene expression up-regulation, CnfR2, vnfN gene, nitrogenase complex, vanadium-nitrogenase, combined nitrogen deprivation, Entity 'Glutamine Pool Increase', nitrogen economy of soils, Bacteria Az. insignes, wild-type strains, NifK gene, O<sub>2</sub>, regulated, 2-OG accumulation, HgdA, nitrate, combined-nitrogen deprivation, photosynthesis, G6PDH, Nitrogen sources, nitrogen starvation condition, Methylosinus trichosporium, HG-2 strain, Vegetative Cells, growth impairment, NifK, nitrogen to the lake, fixed nitrogen compounds, heterocyst function, Salinity, heterocystous nitrogen-fixing cyanobacterium, Cyanobacterial nitrogenase gene cluster, Start of nitrogen fixation, AhpC, Fixed-nitrogen, ((nitrogen supplemented conditions, FeSOD, Heterocyst cells formation, nitrogen fixation gradual inhibition, Protection of nitrogenase, Calothrix sp. 336/3, genetically engineered Anabaena sp. PCC 7120, external N source, Iron, Glycolate, aerobic conditions, maximal in-vivo nitrogenase activity, nif protein complex, Cyanothece, Nonheterocystous cyanobacteria, N2-derived nitrogen metabolism, nitrogen content, Enzyme activity levels, sole nitrogen source, cellular carbon and nitrogen (C/N, Entity 'Summer months', Anabaena sp. PCC 7220, atmospheric N2, Entity 'glyoxylate', nitrogen step-down, Nitrogen fertilizers, acetylene reduction, Nif2 nitrogenase, nitrogen fixation capability promotion, 'initial heterocysts', soil pH 5.20, nitrogen fixation, aerobic growth conditions, Entity 'preincubation in air with reduced pCO2 (13 μl l(-1))', Anabaena sp. strain ATCC 33047, ana-rsh, intercellular exchange, nitrogenase function, [nitrogenase activity], Hom's law, underlying soil nitrogen fixation, nitrogen-fixing cultures, grain yield, soil available nitrogen, nitrogen depletion, community structure of nitrogen-fixing bacteria, molecular nitrogen growth, nitrogen deficiency intracellular molecular signal, Urea-N, carbon sources, exchange, long-term growth of a nif1 mutant, nitrogen fixation, treatment efficiency, Anabaena sp. PCC7220, Oscillatoria bonnemaisonii, enrichment, transcript boundaries, aerobic growth on dinitrogen, heterocyst formation, ((RpaA, clock outputs in Anabaena, Entity 'HCO3(-)', inability to make nitrogenase anaerobic conditions, Enterobacter cloacae HG-2, mutant strains, nifD gene, Energy, (Anabaena variabilis, combined nitrogen, growth phase, nitrogen-fixation genes, nitrogen fixation gene nifD, vnfR1 vnfR2 mutant, Azolla nitrogen fixation, primary activators of nitrogenase gene expression, Glyoxylate, low oxygen conditions, (metal dynamics, Anabaena, allelopathy, atmospheric O2 sensitivity, nitrogen fixation in Azolla filiculoides, Entity 'heterocyst differentiation', Elevated CO2, Anabaena strain CA, nitrogen-fixing capacity, Azotobacter, dichlorophenolindophenol-ascorbate, stimulation, Reduced expression of nitrogen fixation proteins, nitrogen fixation delay, Nitrogenase genes, cyanobacteria colonized-nitrogen-fixing rice plants, (cellular total nitrogen content, Hydrogen oxidizing bacterium Mycobacterium flavum, nitrogenase induction, nitrogen-free media, oxygen concentration, inhibition of respiration, (Cuspidothrix issatschenkoi CHARLIE-2, high nitrogenase (Nif2, flag leaf stage, Entity 'filament survival', ferredoxins, Methane oxidizing bacteria Methylosinus trichosporium, nitrogen-limitation, Plants, reduced carbon, Hydrocoleum coccineum, dinitrogenase fixing organisms, inorganic nitrogen input, loss of nitrogenase activity, cpc genes, nitrogenase expression, mobile dune site, glucose addition, Synechococcus sp. strain PCC 7922, (carbon metabolism, nitrogen fixation (genes)), 2956-revegetating site, growth, InvB, Methanosarcina barkeri 227, nitrogen fixation activity, blue-green algae, sava2870.1 downregulation, Dithiothreitol, Gene transcription, bacterial non-nitrogen-fixers, enhanced nitrogenase activity, NAA, presence, genes encoding proteins involved in nitrogen assimilation, late inhibitory mechanism, <i>Anabaena</i> strain UTEX B377, nitrogen-fixing conditions, molecular hydrogen, Genes, messenger RNA, combined nitrogen requirement, Nostoc PCC7220, Lindane, regulation, furC, Heterocyst-forming cyanobacteria, (filamentous cyanobacteria, nitrogen fixation gene, denitrification, KG29, endosymbiont, Gold nanoparticles production, nitrogen-replete conditions, mRNA, nitrogen-fixing ability, atmospheric nitrogen fixation, Expression, Nostoc muscorum UTEX 2209S, sensing nitrogen sufficiency or insufficiency, glnA, Entity 'Glutamine', Nitrogenase activity repression, nifV, Metronidazole, economic feasibility, light elements, signal of nitrogen deprivation, Entity 'A. cylindrica', Mo-dependent nitrogenases, (nitrogen stress-responsive proteins, reduced nitrogen, diazotrophic conditions, Hydrogen gas, Nitrogen compounds, butachlor, Na2S2O4, (ammonium, T. variabilis, nitrogen-fixing cyanobacterium, Glutamine synthetase, Molecular mechanisms, nifS gene, nitrogen fixation (nif) promoters, Particulate organic nitrogen, (Molybdenum (Mo) nitrogenase, Repression of nitrogenase induction, NifH gene, Combined nitrogen requirements, inhibition of nitrogenase, Particulate nitrogenase, HetR, hglT null mutants, induction trigger, cnfR gene, (Nitrogen fixing-cyanobacteria, ssr1528, glutamine synthetase, Anabaena cylindrica, FraC, nitrogen stepdown, inhibitors, Exogenous ammonia, Entity 'combined nitrogen source', Mutants of Anabaena sp. strain PCC 7120, het- nif+, Cd exposure, Molybdenum nitrogenase, Nitrogenase complex, Entity 'Nitrogen Fixation Regulation', light:darkness conditions, Sevin, sodium requirement, filament fragmentation, LW2, nitrogenase mRNA decrease, ((multiple contiguous proheterocysts, prolonged incubation, Nitroplast, Entity 'Photo-generated reductant', (Trichodesmium spp., N(2), nitrogenase repression, heterocyst-specific nitrogenase, trichloroacetic acid, ATP, stimulation, nitrogen repletion condition, nitrogen assimilation, nitrogenase mRNA levels, nitrogenases, Al, Entity 'Growth of cyanobacteria', nitrogen fixation potential, nitrogen-fixing potential, energetically expensive nitrogen fixation, N<sub>2</sub> fixation, external availability, effect, hupSL, dissolved inorganic nitrogen, enzyme activity, reducing equivalents, (Anabaena sp. strain PCC 7220, Heterocyst differentiation, carboxysome degradation, fixed-nitrogen, fdxH2, (nitrogenous substances, N<sub>2</sub>-fixing algae, medium lacking combined nitrogen, A. cylindrica nitrogenase, AhpC levels, SXM images, starch accumulation, oxygen exposure, Mo-dependent nitrogenase (Nif2), external fixed-nitrogen concentration, heterocysts, nitrogen fixation, nitrogen regime, nitrogenase activity of A. filiculoides, (Anacystis nidulans, non-dinitrogen-fixing, gene expressions, gene clusters, suppression of nitrogenase activity, hoxH(-) mutant, Redox, A. microphylla, MnSOD cleavage, Suc metabolism, committed heterocysts, nitrogen starvation signal, K-absorption edge of nitrogen, Zinc, PON, daily nitrogen fixation, heterocyst development, Entity 'Carbon fixation', transcription of glnA, Δflv3B, Derepression of nitrogen fixation, Cyanobacteria, Nitrogen fixation-deficient mutant YC16, Fixed Nitrogen, dinitrogen, oxic conditions, enhancement, nirA, glycolipid layer, tri-membered lichens, salinity stress, (mutant SS1, Nitrogenase gene regulation, V nitrogenase, negative control, NtcA, Nostoc, (fixed nitrogen, Cells, atmospheric dinitrogen))\n",
      "((ntcA mutant), (high light intensities, oxidative stress tolerance)), C/N ratio, ORF 2, metabolic exchange, Nitrogenase inhibition, Heterocyst cell envelope, Nitrogenase in heterocysts, Transcription factor CnfR, alpha-subunit, Protein breakdown, atmospheric nitrogen, Aerobic pO2, Oxygen-sensitive process, Important in heterocysts, Nitrogen-fixing Anabaena strains, V-nitrogenase activity, ADN, An∆ahpC, Heterocyst ferredoxin, NifD gene, Anabaena sphaerica, Symploca hydnoides, growth without combined nitrogen, arginine atmosphere, Anabaena azollae, Nif2 gene cluster, Nitrogen-rich molecule, alternative molybdenum nitrogenase 2, nif genes, Nitrogen fixation conditions, nitrogen fixation process, nitrogen depletion condition, Anabaena torulosa-B. japonicum biofilm, cytosolic 22 kDa form of MnSOD, Heterocyst thylakoids, nitrogen deficiency response, heterocyst-specific gene expression, induction, PknE, atmospheric N<sub>2</sub>, daytime nitrogenase activity, nitrogen budget, abiotic stressors, urea, Mo nitrogenase, Entity 'Lower Glutamine Synthetase Activity', unicellular, aerobic nitrogen-fixing cyanobacterium, Cyanobacterium Anabaena, Phosphorus, gene expression, ntcA gene expression, anammox, Inhibition of NifA activity, nifHDK operon, Entity 'Anabaena sp.', Nitrogen fixing cyanobacterial strains, nitrogen, genetic mechanisms, PII, Oxygen sensitivity, fractional contribution of atmosphere-derived nitrogen, Entity 'Anabaena sp. strain 7220', Anabaena variabilis ATCC 29213, biological nitrogen fixation, glnB, unable to, Nif2 expression, cadmium, most potential inhibitors of nitrogenase, nitrogen metabolites, PrpA, AHLs, hydrogenases, combined-nitrogen-free medium, Leptolyngbya spp., section IV, Dinitrogen-fixing cyanobacteria, Entity 'growth in medium free of combined-nitrogen', nitrogen source, nitrogen-replete vegetative cells, [2Fe-2S] ferredoxin, Methane oxidizing bacteria M. sporium, darkness heterotrophic cultures, nitrogen-supplemented conditions, depression of nitrogenase activities, external nitrogen sources, vegetative cells, Dinitrogenase reductase (Fe-protein, Nitrogen deficiency, inability to make nitrogenase aerobic conditions, HupL, Hydrocoleum majus, nitrogen fixation ability, Carbamyl phosphate, A. laxa, filament integrity, growth in the presence of oxygen, Heterocyst development genes, nitrogenase, nitrogen sources (nitrate, N(2, electron donor, cyanobacterial nitrogenase, H. coccineum, nif1 gene cluster, sava2870.1 expression, RbrA, ARA, Mo-nitrogenase, Photosynthetically produced carbon compounds, underlying soil fertility, Nitrogen, low level, optimum heterocyst frequency, nitrogen fixation genes, Nitrogen supply, Entity 'Microchaete sp.', Gloeoe thece sp. strain ATCC 27152, Ferredoxin, proheterocysts, Cereal crops, Growth, mature heterocysts, nitrogen-fixing cyanobacteria, 2-OG, MSX, (butachlor, metabolic nitrogen, Reduced nitrogen fixation, Ca<sup>2+</sup>-alginate films, Nitrogen fixation genes, assimilatory power, Cylindrospermopsis raciborskii CS-505, nitrogenase inhibition, alternative nitrogenases, upregulation, nitrogen-replete conditions, alr2285, Transcriptional regulation, nitrogen step-down conditions, nitrogen-fixation activity, 2-oxoglutarate, Nitrate, permeabilized heterocysts, Nitrogenase, Diazotrophy, regulation of molecular nitrogen assimilation, De novo protein synthesis, nitrogen deprivation, Developmental regulation, de novo protein synthesis, energy-consuming process, 'heterocyst differentiation', heterocyst production, dinitrogenase fixation, Nitrogen vehicle, nitrogenase activity of free-living A. azollae, Entity 'nitrogen fixation', hepA induction, ppGpp concentration, wild-type filaments, atmospheric dinitrogen, Plectonema boryanum PCC 73110, Pyruvate kinase activity, Anabaena flos-aquae, alr5068 gene, support of nitrogenase activity, photosynthetic dinitrogen fixation, nitrogen supply, A. variabilis, gln A gene, Nitrogen Fixation, marine nitrogen fixation, nitrogenous compounds, Anabaena PCC 7220, Anabaena 7120, L-arginine, nitrogenase system, KEGG pathways, Monosulfuron, aerobic growth, maximal level of protein synthesis, Methionine sulfoximine, assimilation of combined nitrogen, Conventional rice production, nonsterile continuous cultures, Nitrogenase, Mutants, arsenic, invA, induction of fraF, hetR, essential, Klebsiella pneumoniae nitrogen fixation (nif) genes, salt stress, Microcystis aeruginosa, Nitrogenase gene expression, NifB, Anabaena oscillarioides, Entity 'carbon dioxide fixation', NifD, maintenance of the spaced pattern of heterocyst differentiation, Entity 'Nitrate-nitrogen', aerobic fixation of dinitrogen, carbon metabolism, FeMo-co, nitrogen reservoir, cyanobacterial formulations, (vegetative cells, Na+ fluxABes modulation, growth conditions, Chlamydomonas sp., target, nitrogen fixation capacity, nTiO(2), nitrogen metabolism, nitrogen-fixing, Entity nitrogen-free medium of Allen and Arnon, N:P minimum, hesF, N<sub>2</sub>-fixing, glutamine, Entity 'plant growth', Iron-only nitrogenase, nitrogen step down, salt tolerance, nitrate reductase-deficient derivatives, differentiation into heterocysts, (all0809 mutant, Un-acclimated cells, 'nitrogen-fixing cells', Azolla, O(2, patB deletion mutant, (alanine, V-dependent nitrogenase, oxygen, unable, Diatoms, (heterocyst frequency, downregulation, nitrogen-starved cells, ammonia synthesis, nitrogenase synthesis, mutants, -) mutant strain), Phytoplankton models, Nitrogenase in vegetative cells and heterocysts, nitrogen-deprived heterocysts, anaerobic conditions, Mastigocladus laminosus, glutamine synthetase/glutamate synthase pathway, arginine metabolism, nitrogenase activities, Entity Anabaena sp. strain PCC 7120, PFO)), Anabaena sp. strain L-31, green manure, underlying soil available nitrogen, (nitrogen-fixing conditions, fdxH gene transcription, hydrogenase genes, Carbon/Nitrogen status, high nitrogenase activity, cadmium, 2982-revegetating site, green algae, nitrogen uptake, (PBP2, (Aulosira, Nitrogenase activity, combined nitrogen sources, carbon, regulatory mechanism, Cell-free extracts, PatB, V-nitrogenase, NifE-N fusion protein, defective Anabaena strain 7120 xisA gene, nitrogen deficiency, nitrogen fixing capability, Nitrogen fixation gene nifD, Heterocyst frequency, endosymbiotic cyanobacteria, (anaerobic nitrogenase-inducing conditions, beta-subunit of dinitrogenase, N(2, H<sub>2</sub>, Excess fixed nitrogen, cytosolic form of MnSOD, nitrogen fixation gene (nifH, AT(p, nitrogen-depleted conditions, naturally revegetating site, suspension heterocysts, inorganic nitrogen, ammonia, Earth's carbon and nitrogen cycles, genetic analysis, rice, nitrogen response, fixed nitrogen transport, Nitrogenase autoprotection, Potassium, negative effect on nitrogenase, precedes nitrogenase activity, Heterotrophic bacterium Azomonas agilis, AnΔahpC, Nitrogenase mRNA, Ammonia, aerobic nitrogen fixation, Inv-A and Inv-B expression, Medium, Combined nitrogen, Nif1, heterocyst cells, nitrogen-deprived vegetative cells, Entity 'pO2', diazotrophic growth, pesticides, filament, biological nitrogen fixation ability, Cyanophycin, 22 kDa form, nif H, Anabaena sp. PCC 7120, Nitrogenase mRNA levels, global nitrogen regulator, α subunit of nitrogenase, Intact heterocysts, WSIII8 cells, Entity 'Glutamine Synthetase', nitrogen-limiting conditions, Entity 'Acetylene Reduction', ADA cyanobacteria, Nitrogen step-down, Entity 'Fixed nitrogen', heterocysts, nitrogenase iron protein, removal, Entity 'ammonium repression', Nitrogen assimilation, metabolism of nitrogen, Endogenous ETCs, Ammonium, (combined nitrogen, nitrogen limitation, Nitrogen scarcity, (glnA message, stability of nitrogenase system, Nitrate Nitrogen, sigB mRNA, Fructose, (Anabaena cycadeae, plant growth, (A. cycadeae, Nitrogen and carbon fixation, H2, cyanobacterial species, hupL gene, Cysteine, heterocyst frequency, nitrogenase inactivation, nitrogen fixing ability, slow transport, master transcriptional activator for nitrogen fixation genes, NaCl, nitrogenase activity maintenance, [optimal growth under nitrogen-fixing conditions], dinitrogenase fixing cyanolichen Peltigera aphthosa, Cyanobacterial formulations, dinitrogenase reductase gene, BMAA, Nodularia sp., V7-An-Tr biofilm, Flv3B, alr2255, butyric and sulphate-reducing bacteria, Elevated pO2, fixed nitrogen step-down, Nitrogen deprivation, (patS mutant, sava2870.1 promoter mutation, 27 kDa form, Entity 'Nitrogen', Anabaena nitrogen interaction, genes required for nitrogenase production and activity, hydrogen, sucrose catabolism, fixed nitrogen, nitrogen-fixation conditions, nif family genes, AgrE/ArgZ, Mycobacterium flavum, soil reclamation, heterocysts, different nitrogen distributions, Entity 'Reductant', acetylene, heterocyst, Entity 'nitrogen deprivation', sigC, photosynthesis impairment, FeS clusters, cyanophycin, Nitrogen metabolism-related pathways, 40 ppm As (III, combined-nitrogen-depleted conditions, Phycobiliprotein degradation, % nitrogen, wild-type cells, Entity 'Nitrogen-fixing Cultures of Anabaena cylindrica', (nitrogen step-down, ammonium, transcription of two open reading frames in Anabaena sp., nitrogen status improvement, nitrogen fixation capability, DevH, Nostoc spp., overall growth, nitrogen-fixation process, Glucose 6-phosphate demolecular hydrogenase, vegetative cell growth, (heterocysts, Entity 'gamma rays', (Anabaena sp. PCC 7120, (cyclic electron flow around PSI, ((gene regulation tools, Anabaena sp. PCC 7220, M73, suppression of nitrogenase activity by nitrate and ammonia, dinitrogen fixation, Diazotrophic conditions, less affected))\n",
      "((nitrogenase activity, N2 fixation, nif K protein, nitrogen cycling, flooding, Entity 'relana', nitrogen storage, cyanobacteria, MnSOD (sodA\n"
     ]
    }
   ],
   "source": [
    "from pyvis.network import Network\n",
    "import pandas as pd\n",
    "import re\n",
    "import networkx as nx\n",
    "\n",
    "# Load the Excel file\n",
    "filepath = 'modified_updated(Qwen1.5 72b)_Anabaena nitrogen fixation_causal.xlsx'\n",
    "df = pd.read_excel(filepath, engine='openpyxl')\n",
    "\n",
    "# Initialize NetworkX Graph\n",
    "G = nx.Graph()\n",
    "\n",
    "# Nodes to exclude\n",
    "# words_to_exclude = ['Synechocystis', 'Cyanobacteria', 'cyanobacteria']\n",
    "words_to_exclude = []\n",
    "\n",
    "# Regular expression to match the pattern (entity A, entity B)\n",
    "pattern = r'\\(([^,]+), ([^\\)]+)\\)'\n",
    "\n",
    "# Iterate over the DataFrame rows to extract entity pairs and their sources\n",
    "for _, row in df.iterrows():\n",
    "    # value = row['Response to New Question']\n",
    "    value = row['Answer to Question 2']\n",
    "    source = row['Title']  # Extract source for each pair\n",
    "\n",
    "    matches = re.findall(pattern, value)\n",
    "    for entity_a, entity_b in matches:\n",
    "        # Check if any word to exclude is part of the entity names\n",
    "        if not any(word in entity_a for word in words_to_exclude) and not any(word in entity_b for word in words_to_exclude):\n",
    "            G.add_node(entity_a, label=entity_a)\n",
    "            G.add_node(entity_b, label=entity_b)\n",
    "            G.add_edge(entity_a, entity_b, title=source)\n",
    "\n",
    "def search_network(graph, keyword, depth=1):\n",
    "    nodes_of_interest = {n for n, attr in graph.nodes(data=True) if keyword.lower() in attr['label'].lower()}\n",
    "    for _ in range(depth):\n",
    "        for node in list(nodes_of_interest):\n",
    "            nodes_of_interest.update(set(nx.neighbors(graph, node)))\n",
    "    return graph.subgraph(nodes_of_interest)\n",
    "\n",
    "# Perform search\n",
    "keyword = \"nitrogen\"  # Replace with your keyword\n",
    "filtered_graph = search_network(G, keyword)\n",
    "\n",
    "# Extract node names from the filtered graph\n",
    "node_names = list(filtered_graph.nodes())\n",
    "\n",
    "# Prepare a simple text summary of node names\n",
    "node_names_text = \", \".join(node_names)\n",
    "\n",
    "# Now, `node_names_text` contains a clean, comma-separated list of node names, ready for summarization\n",
    "print(node_names_text)\n",
    "\n",
    "# Initialize Pyvis network with the filtered graph\n",
    "net = Network(height=\"2160px\", width=\"100%\", bgcolor=\"#222222\", font_color=\"white\")\n",
    "net.from_nx(filtered_graph)\n",
    "\n",
    "# Continue with setting options and saving the network as before\n",
    "net.set_options(\"\"\"\n",
    "{\n",
    "  \"physics\": {\n",
    "    \"barnesHut\": {\n",
    "      \"gravitationalConstant\": -80000,\n",
    "      \"centralGravity\": 0.5,\n",
    "      \"springLength\": 75,\n",
    "      \"springConstant\": 0.05,\n",
    "      \"damping\": 0.09,\n",
    "      \"avoidOverlap\": 0.5\n",
    "    },\n",
    "    \"maxVelocity\": 100,\n",
    "    \"minVelocity\": 0.1,\n",
    "    \"solver\": \"barnesHut\",\n",
    "    \"timestep\": 0.3,\n",
    "    \"stabilization\": {\n",
    "        \"enabled\": true,\n",
    "        \"iterations\": 500,\n",
    "        \"updateInterval\": 10,\n",
    "        \"onlyDynamicEdges\": false,\n",
    "        \"fit\": true\n",
    "    }\n",
    "  },\n",
    "  \"nodes\": {\n",
    "    \"font\": {\n",
    "      \"size\": 30,\n",
    "      \"color\": \"white\"\n",
    "    }\n",
    "  }\n",
    "}\n",
    "\"\"\")\n",
    "\n",
    "\n",
    "\n",
    "\n",
    "\n",
    "# Save and show the network\n",
    "net.write_html('filterd_entity_network.html')"
   ]
  },
  {
   "cell_type": "code",
   "execution_count": 4,
   "id": "26cd6037-212c-4536-a5ae-99332db5c558",
   "metadata": {},
   "outputs": [
    {
     "data": {
      "text/markdown": [
       "Experiment Plan: Anabaena Nitrogen Fixation for Bio-Fertilizer Production\n",
       "\n",
       "Objective:\n",
       "To utilize the nitrogen-fixing ability of Anabaena sp. to produce an effective bio-fertilizer, optimizing conditions for nitrogen fixation and maximizing its benefits for plant growth.\n",
       "\n",
       "1. Strain Selection and Preparation:\n",
       "- Choose a high-yielding, stable Anabaena strain, such as Anabaena variabilis or Anabaena sp. PCC 7120, known for efficient nitrogen fixation.\n",
       "- Culture the selected strain under photoheterotrophic conditions to promote growth and nitrogen fixation.\n",
       "\n",
       "2. Optimization of Environmental Factors:\n",
       "- Investigate the optimal pH for nitrogen fixation (e.g., 9.23 for some strains).\n",
       "- Study the effects of varying light intensities, day/night cycles, and temperature on nitrogenase activity.\n",
       "- Assess the influence of carbon/nitrogen ratios (C:N) on nitrogen fixation efficiency.\n",
       "\n",
       "3. Heterocyst Formation and Maintenance:\n",
       "- Determine the ideal proportion of heterocysts in the filament to ensure efficient nitrogenase activity.\n",
       "- Investigate factors that stimulate heterocyst differentiation, such as nitrogen deficiency signals, glyoxylate, and FurC.\n",
       "- Study the impact of Mo and other trace elements on nitrogenase function.\n",
       "\n",
       "4. Nitrogenase Protection and Inhibition:\n",
       "- Evaluate the role of protective mechanisms against oxygen, including hydrogen gas production and the involvement of flavodoxin and ferredoxin.\n",
       "- Investigate the effects of inhibitors like carbofuran and metals on nitrogenase activity.\n",
       "- Test potential protectants like reduced ferredoxin and hydrogenase genes.\n",
       "\n",
       "5. Nitrogen Assimilation and Regulation:\n",
       "- Analyze the expression of nitrogen-regulated genes, including nif genes, ntcA, and nrrA.\n",
       "- Monitor the impact of nitrogen starvation on nif gene expression and nitrogenase activity.\n",
       "- Study the influence of global nitrogen regulators like NtcA and CNF2 on nitrogen assimilation.\n",
       "\n",
       "6. Bio-fertilizer Formulation:\n",
       "- Immobilize Anabaena cells in a suitable matrix, such as calcium alginate, for controlled release of fixed nitrogen.\n",
       "- Optimize the formulation for stability, shelf life, and ease of application.\n",
       "- Evaluate the compatibility of Anabaena with other beneficial microorganisms for synergistic effects.\n",
       "\n",
       "7. Field Trials:\n",
       "- Conduct greenhouse trials to assess the bio-fertilizer's effectiveness in promoting plant growth under varying nitrogen regimes.\n",
       "- Monitor plant health, biomass, and yield compared to conventional fertilizers.\n",
       "- Measure the impact on soil nitrogen levels and nitrogen isotopic fractionation.\n",
       "\n",
       "8. Economic Analysis:\n",
       "- Estimate the cost-effectiveness of the bio-fertilizer production process.\n",
       "- Compare the environmental benefits, such as reduced dependence on chemical fertilizers and mitigation of greenhouse gases.\n",
       "\n",
       "9. Monitoring and Adaptation:\n",
       "- Continuously monitor the performance of the bio-fertilizer under different agricultural conditions.\n",
       "- Adjust the formulation and cultivation methods based on field results and feedback.\n",
       "\n",
       "By conducting these experiments, we aim to develop a sustainable and environmentally friendly bio-fertilizer that harnesses the nitrogen-fixing potential of Anabaena sp. to improve crop yields while maintaining soil health."
      ],
      "text/plain": [
       "<IPython.core.display.Markdown object>"
      ]
     },
     "metadata": {},
     "output_type": "display_data"
    }
   ],
   "source": [
    "from IPython.display import Markdown\n",
    "\n",
    "def trim_text(text, max_length):\n",
    "    if len(text) > max_length:\n",
    "        return text[:max_length].rsplit(' ', 1)[0] + \"...\"  # Trim to max_length, avoid cutting words in half\n",
    "    else:\n",
    "        return text\n",
    "    \n",
    "# Apply the trimming function to node_names_text\n",
    "cut_off_chunk_size = 30000\n",
    "trimmed_node_names_text = trim_text(node_names_text, cut_off_chunk_size)\n",
    "\n",
    "# Construct the prompt with the potentially trimmed node_names_text\n",
    "# prompt = \"These are the terms related to \" + filepath + keyword + \", categorize them and write a summary report.\" + trimmed_node_names_text\n",
    "\n",
    "prompt = \"These are the terms related to \" + filepath + keyword + \", I try to use the nitrogen fixation ability of Anabaena sp to produce bio-fertilizer, given these information, write a experiment plan\" + node_names_text\n",
    "\n",
    "messages = [\n",
    "    {\"role\": \"system\", \"content\": \"You are a helpful assistant.\"},\n",
    "    {\"role\": \"user\", \"content\": prompt}\n",
    "]\n",
    "text = tokenizer.apply_chat_template(\n",
    "    messages,\n",
    "    tokenize=False,\n",
    "    add_generation_prompt=True\n",
    ")\n",
    "model_inputs = tokenizer([text], return_tensors=\"pt\").to(device)\n",
    "\n",
    "generated_ids = model.generate(\n",
    "    model_inputs.input_ids,\n",
    "    max_new_tokens=10000\n",
    ")\n",
    "generated_ids = [\n",
    "    output_ids[len(input_ids):] for input_ids, output_ids in zip(model_inputs.input_ids, generated_ids)\n",
    "]\n",
    "\n",
    "response1 = tokenizer.batch_decode(generated_ids, skip_special_tokens=True)[0]\n",
    "display(Markdown(response1))"
   ]
  },
  {
   "cell_type": "markdown",
   "id": "5dedf2da-fb5e-453c-b7b2-8f4cf227f114",
   "metadata": {
    "jp-MarkdownHeadingCollapsed": true,
    "tags": []
   },
   "source": [
    "# "
   ]
  }
 ],
 "metadata": {
  "kernelspec": {
   "display_name": "Python 3",
   "language": "python",
   "name": "python3"
  },
  "language_info": {
   "codemirror_mode": {
    "name": "ipython",
    "version": 3
   },
   "file_extension": ".py",
   "mimetype": "text/x-python",
   "name": "python",
   "nbconvert_exporter": "python",
   "pygments_lexer": "ipython3",
   "version": "3.8.12"
  }
 },
 "nbformat": 4,
 "nbformat_minor": 5
}
